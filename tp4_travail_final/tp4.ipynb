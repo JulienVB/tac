{
 "cells": [
  {
   "cell_type": "markdown",
   "metadata": {},
   "source": [
    "# TP4: Travail Final \n",
    "## VANBELLE Julien"
   ]
  },
  {
   "cell_type": "markdown",
   "metadata": {},
   "source": [
    "## Imports"
   ]
  },
  {
   "cell_type": "code",
   "execution_count": 1,
   "metadata": {},
   "outputs": [
    {
     "name": "stderr",
     "output_type": "stream",
     "text": [
      "[nltk_data] Downloading package stopwords to\n",
      "[nltk_data]     /Users/julienvanbelle/nltk_data...\n",
      "[nltk_data]   Package stopwords is already up-to-date!\n",
      "[nltk_data] Downloading package webtext to\n",
      "[nltk_data]     /Users/julienvanbelle/nltk_data...\n",
      "[nltk_data]   Package webtext is already up-to-date!\n"
     ]
    }
   ],
   "source": [
    "import os\n",
    "import yake\n",
    "from collections import Counter\n",
    "from wordcloud import WordCloud\n",
    "import nltk\n",
    "from nltk.corpus import stopwords\n",
    "from nltk import FreqDist\n",
    "from nltk.corpus import webtext\n",
    "nltk.download('stopwords')\n",
    "nltk.download('webtext')\n",
    "from IPython.display import Image\n",
    "from collections import defaultdict\n",
    "import sys\n",
    "import spacy\n",
    "from spacy.lang.fr.examples import sentences\n",
    "from textblob import Blobber\n",
    "from textblob_fr import PatternTagger, PatternAnalyzer\n",
    "from tabulate import tabulate\n",
    "\n",
    "txt_path = '/Users/julienvanbelle/Documents/GitHub/tac/data/txt'\n",
    "data_path = '/Users/julienvanbelle/Documents/GitHub/tac/data'\n"
   ]
  },
  {
   "cell_type": "markdown",
   "metadata": {},
   "source": [
    "## Data cleaning"
   ]
  },
  {
   "cell_type": "code",
   "execution_count": 2,
   "metadata": {},
   "outputs": [
    {
     "data": {
      "text/plain": [
       "2831"
      ]
     },
     "execution_count": 2,
     "metadata": {},
     "output_type": "execute_result"
    }
   ],
   "source": [
    "files = os.listdir(txt_path)\n",
    "data_bxl = [f for f in files]\n",
    "len(data_bxl)\n"
   ]
  },
  {
   "cell_type": "code",
   "execution_count": 3,
   "metadata": {},
   "outputs": [
    {
     "data": {
      "text/plain": [
       "2831"
      ]
     },
     "execution_count": 3,
     "metadata": {},
     "output_type": "execute_result"
    }
   ],
   "source": [
    "data_list = []\n",
    "for txt in data_bxl:\n",
    "    with open(os.path.join(txt_path, txt), 'r', encoding = \"ISO-8859-1\") as f:\n",
    "        data_list.append(f.read())\n",
    "\n",
    "len(data_list)\n"
   ]
  },
  {
   "cell_type": "code",
   "execution_count": 4,
   "metadata": {},
   "outputs": [
    {
     "name": "stdout",
     "output_type": "stream",
     "text": [
      "temp file saved in /Users/julienvanbelle/Documents/GitHub/tac/data\n"
     ]
    }
   ],
   "source": [
    "# Ecrire tout le contenu dans un fichier temporaire\n",
    "if not os.path.exists(data_path):\n",
    "    os.mkdir(data_path)\n",
    "with open(os.path.join(data_path, f'_temp.txt'), 'w') as f:\n",
    "    f.write(' '.join(data_list))\n",
    "    print(\"temp file saved in\",data_path)"
   ]
  },
  {
   "cell_type": "code",
   "execution_count": 5,
   "metadata": {},
   "outputs": [
    {
     "data": {
      "image/png": "[encoded data removed]",
      "text/plain": [
       "<Figure size 432x288 with 1 Axes>"
      ]
     },
     "metadata": {
      "needs_background": "light"
     },
     "output_type": "display_data"
    },
    {
     "data": {
      "text/plain": [
       "<AxesSubplot:xlabel='Samples', ylabel='Counts'>"
      ]
     },
     "execution_count": 5,
     "metadata": {},
     "output_type": "execute_result"
    }
   ],
   "source": [
    "wt_words = webtext.words('{}/_temp.txt'.format(data_path))\n",
    "data_analysis = nltk.FreqDist(wt_words)\n",
    " \n",
    "filter_words = dict([(m, n) for m, n in data_analysis.items() if len(m) > 3])\n",
    "\n",
    "##for key in sorted(filter_words):\n",
    "    ##print(\"%s: %s\" % (key, filter_words[key]))\n",
    " \n",
    "data_analysis = nltk.FreqDist(filter_words)\n",
    "data_analysis.plot(30, cumulative=False)"
   ]
  },
  {
   "cell_type": "code",
   "execution_count": 6,
   "metadata": {},
   "outputs": [
    {
     "name": "stdout",
     "output_type": "stream",
     "text": [
      "['Administration', 'Bourgmestre', 'Bruxelles', 'Cette', 'CollĂ', 'Commission', 'Conseil', 'Echevin', 'Ecole', 'Etat', 'Mais', 'Messieurs', 'Monsieur', 'Nous', 'Saint', 'Section', 'Service', 'SociĂ', 'Total', 'Ville', 'administration', 'adoptĂ', 'ainsi', 'annĂ', 'aprĂ', 'arrĂ', 'article', 'aussi', 'autre', 'autres', 'avait', 'avant', 'avec', 'avenue', 'avis', 'avoir', 'avons', 'bien', 'budget', 'cela', 'celle', 'celui', 'cette', 'ceux', 'charges', 'comme', 'communal', 'communale', 'communes', 'compte', 'conditions', 'considĂ', 'contre', 'cours', 'crois', 'dans', 'demande', 'depuis', 'deux', 'dire', 'divers', 'doit', 'donc', 'donnĂ', 'dont', 'droit', 'elle', 'encore', 'enfants', 'entre', 'entretien', 'exercice', 'faire', 'fait', 'faut', 'favorable', 'frais', 'francs', 'glement', 'heures', 'honneur', 'intĂ', 'jour', 'leur', 'leurs', 'lieu', 'mais', 'mars', 'membres', 'moins', 'mois', 'nombre', 'notre', 'nous', 'octobre', 'ordre', 'part', 'partie', 'pendant', 'personnel', 'peut', 'place', 'plus', 'point', 'police', 'pour', 'prix', 'procĂ', 'projet', 'proposer', 'proposition', 'propriĂ', 'publics', 'publique', 'question', 'rapport', 'recettes', 'sans', 'section', 'sera', 'serait', 'seront', 'service', 'situation', 'soit', 'somme', 'sommes', 'sont', 'sous', 'suite', 'supplĂ', 'taxe', 'terrain', 'tous', 'tout', 'toute', 'toutes', 'travaux', 'tres', 'trois', 'ville', 'voor', 'vote', 'vous', 'ÂŞme', 'ÂŞtre', 'ÂŞts', 'ÂŞtĂ', 'ÂŠance', 'ÂŠcembre', 'ÂŠcole', 'ÂŠcoles', 'ÂŠcĂ', 'ÂŠdit', 'ÂŠes', 'ÂŠlĂ', 'ÂŠment', 'ÂŠnĂ', 'ÂŠpense', 'ÂŠpenses', 'ÂŠral', 'ÂŠration', 'ÂŠrĂ', 'ÂŠtaire', 'ÂŠtait', 'ÂŠtĂ']\n"
     ]
    }
   ],
   "source": [
    "addsw = []\n",
    "for z in sorted(filter_words):\n",
    "  if filter_words[z] > 25000:\n",
    "   ##print(\"%s: %s\" % (z, filter_words[z]))\n",
    "   addsw.append(z)\n",
    "\n",
    "print(addsw)"
   ]
  },
  {
   "cell_type": "code",
   "execution_count": 7,
   "metadata": {},
   "outputs": [
    {
     "name": "stdout",
     "output_type": "stream",
     "text": [
      "{'ayants', 'communes', 'votre', 'soit', 'publique', ' ', 'Bourgmestre', 'aura', 'aurai', 'Administration', 'qui', 'et', 'que', 'SociĂ', 'on', 'ton', 'rapport', 'leurs', 'mars', 'frais', 'êtes', 'charges', 'ayons', 'étiez', 'avenue', 'ce', 'o', 'publics', 'eusses', 'crois', 'part', 'service', 'ÂŠcole', 'ses', 'plus', 'étante', 'aurait', 'encore', 'moi', 'intĂ', 'eurent', 'ÂŞtĂ', 'avez', 'autres', 'ÂŠcembre', 'CollĂ', 'prix', 'Cette', 'supplĂ', 'eus', 'une', 'eux', 'auriez', 'Ecole', 'ainsi', 'le', 'travaux', 'eue', 'mois', 'point', 'fûmes', 'dans', 'ÂŠlĂ', 'auront', 'suite', 'administration communale', 'serais', 'ÂŠtait', 'est', 'ÂŞtre', 'ÂŠration', 'bourgmestre', 'exercice', 'lieu', 'fusses', 'ÂŠcĂ', 'fus', 'tres', 'serons', 'eussent', 'communal', 'du', 'fussiez', 'ait', 'proposition', 'tes', 'seriez', 'tout', 'nombre', 'echevin', 'aurais', 'enfants', 'eues', 'pendant', 'seront', 'notre', 'collège', 'budget', 'furent', 'Etat', 'conditions', 'p', 's', 'seras', 'i', 'elle', 'eûmes', 'avis', 'ÂŠment', 'doit', 'h', 'aurons', 'se', 'serait', 'dont', 'mais', 'eûtes', 'fussions', 'favorable', 'était', 'm', 'faut', 'aux', 'cela', 'aviez', 'toutes', 'avoir', 'cours', 'eussiez', 'depuis', 'trois', 'v', 'j', 'octobre', 'ÂŠral', 'deux', 'je', 'eut', 'Mais', 'Messieurs', 'procĂ', 'auraient', 'eusse', 'contre', 'les', 'Nous', 'ceux', 'annĂ', 'te', 'bruxelles', 'me', 'étant', 'administration', 'autre', 'proposer', 'membres', 'pour', 'glement', 'cette', 'ÂŞme', 'arrĂ', 'donnĂ', 'ă', 'fut', 'š', 'moins', 'â', 'partie', 'compte', 'conseil supérieur', 'situation', 'eu', 'b', 'qu', 'g', 'Echevin', 'adoptĂ', 'soyons', \"l'administration communale\", 'messieurs', 'leur', 'ÂŠdit', 'donc', 'q', 'étaient', 'de', 'aies', 'Saint', 'r', 'aurions', 'considĂ', 'des', 'celui', 'demande', 'avons', 'taxe', 'nous', 'Bruxelles', 'avait', 'lui', 'ordre', 'sera', 'ÂŠcoles', 'ÂŠnĂ', 'vous', 'fait', 'e', 'fût', 'en', 'ş', 'ou', 't', 'serions', 'Conseil', 'comme', 'u', 'soyez', 'section', 'avais', 'avaient', 'ÂŠpenses', 'à', 'ai', 'article', 'ÂŠance', 'ÂŠpense', 'Section', 'avions', 'même', 'entre', 'étés', 'es', 'soient', 'fussent', 'ayantes', 'fusse', 'communale', 'sont', 'divers', 'être', 'tu', 'question', 'somme', 'aurez', 'place', 'par', 'conseil provincial', 'son', 'fûtes', 'vote', 'sur', 'entretien', 'étais', 'voor', 'ÂŠrĂ', 'projet', 'sois', 'ma', 'toi', 'été', 'serez', 'la', 'ÂŠtaire', 'au', 'honneur', 'mon', 'ville', 'c', 'étée', 'Commission', 'Monsieur', 'Service', 'un', 'droit', 'ne', 'ÂŠtĂ', 'ces', 'x', 'police', 'sous', 'étées', 'heures', 'faire', 'conseil communal', 'francs', 'serai', 'f', 'recettes', 'étants', 'sa', 'nos', 'y', 'il', 'l', 'ils', 'sans', 'ÂŠes', 'eussions', 'jour', 'mes', 'aient', 'peut', 'auras', 'as', 'conseil général', 'aie', 'sommes', 'celle', 'étantes', 'ayez', 'eût', 'seraient', 'aussi', 'ayant', 'ayante', 'tous', 'Ville', 'ta', 'bien', 'terrain', 'toute', 'avec', 'vos', 'conseil', 'ont', 'pas', 'suis', 'propriĂ', 'dire', 'a', 'étions', 'n', 'avant', 'personnel', 'd', 'ÂŞts', 'Total', 'aprĂ'}\n"
     ]
    }
   ],
   "source": [
    "# Stopwords\n",
    "swLower = ' '.join(str(e).lower() for e in addsw)\n",
    "sw = stopwords.words(\"french\")\n",
    "sw += addsw\n",
    "sw += swLower\n",
    "sw += \"conseil communal\", \"conseil général\", \"conseil supérieur\", \"administration communale\", \"conseil provincial\", \"l'administration communale\", \"conseil\", \"echevin\" , \"messieurs\", \"bruxelles\", \"bourgmestre\", \"collège\", \"être\"\n",
    "sw = set(sw)\n",
    "print(sw)"
   ]
  },
  {
   "cell_type": "code",
   "execution_count": 23,
   "metadata": {},
   "outputs": [],
   "source": [
    "def clean_text(folder=None):\n",
    "    if folder is None:\n",
    "        input_path = f\".txt\"\n",
    "        output_path = f\"_clean.txt\"\n",
    "    else:\n",
    "        input_path = f\"{folder}/_temp.txt\"\n",
    "        output_path = f\"{folder}/_clean.txt\"\n",
    "    output = open(output_path, \"w\", encoding=\"ISO-8859-1\")\n",
    "    with open(input_path, encoding=\"ISO-8859-1\") as f:\n",
    "        text = f.read()\n",
    "        words = nltk.wordpunct_tokenize(text)\n",
    "        kept = [w.lower() for w in words if len(w) > 2 and w.isalpha() and w.lower() not in sw]\n",
    "        kept_string = \" \".join(kept)\n",
    "        output.write(kept_string)\n",
    "    return f'Output has been written in {output_path}!'"
   ]
  },
  {
   "cell_type": "code",
   "execution_count": 24,
   "metadata": {},
   "outputs": [
    {
     "data": {
      "text/plain": [
       "'Output has been written in /Users/julienvanbelle/Documents/GitHub/tac/data/_clean.txt!'"
      ]
     },
     "execution_count": 24,
     "metadata": {},
     "output_type": "execute_result"
    }
   ],
   "source": [
    "clean_text(folder=data_path)"
   ]
  },
  {
   "cell_type": "code",
   "execution_count": 27,
   "metadata": {},
   "outputs": [
    {
     "data": {
      "text/plain": [
       "'vii âªtes quartier comitã quartier preuve habituelle activitã long tannã manifestations telles cortã ges bals populaires attractions foraines jeux populaires concerts promenades concerts kiosques contribuã largement succã âªtes remportã suffrages ritã population mis gracieusement kiosques disposition comitã outre parti saison cercles intã âªts matã riels dessous dates âªtes organisã comitã quartier annã district union commerã ants nord bourse juin septembre hiver association fense activitã economiques centre art commerce industrie juillet entente commerã ants rue haute septembre commune libre marolles minimes attractions juin amicale commerã ants artisans artã res centrales bourse midi rues adjacentes cembre janvier compagnons saint laurentã meyboom aoã association dame rouge extension aoã septembre union commerã ants rues flandre sainte catherine adjacentes septembre union commerã ants sainã bourse septembre rue blaes attraction mai juin septembre renard attraction septembre comitã centenaire petit chã teau organisa commã moration appui financier district ligue intã âªts matã riels laeken centre comprenant comitã rues fransman adjacentes places maison rouge rues adjacentes rues champ couronne adjacentes rues palais outre pont adjacentes quartier rues edmond tollenaere charles demeer adjacentes aoã septembre comitã quartier gros tilleul rue wand mutsaert aoã cercle intã âªts matã riels aoã aoã chaussã anvers amicale tue marie christine square combattants emile bockstael septembre comitã heysel toekomst avenir ligue intã âªts matã riels nouveaux quartiers centenaire septembre viii office tourisme tourisme prenant extension continuelle activitã office tourisme accroã proportion juin auxiliaire temporaire engagã connaissances approfondies allemand espagnol prã cieuses correspondance reã conversation touristes multiples manifestations attirã trã nombreux visiteurs outre foire internationale eries lumineuses siã exposition europã enne machine outil championnat mondial escrime nombreux congrã internationaux certains moments tait impossible trouver chambre tels agglomã ration diverses manifestations attirã afflux visiteurs grand tel grã troite collaboration office tourisme syndicat initiative commissariat ral tourisme organismes occupant tourisme tellerie distibuer visiteurs plans horaires visite monuments musã guides tels semaine diffã rentes publications cessaires documentation visiteurs office sollicitã obtenu crã dit versã syndicat initiative charge dernier fournir imprimã distribuã touristes touristes reã franã ais erlandais anglais allemand espagnol correspondance assurã quatre premiã res langues office prã âªtã concours lors ceptions trangers echevins visites guidã tel traduction quelques lettres trã nombreux imprimã expã diã office provinciaux trangers sirant prã parer voyage chapitre xvi assistance lisante trava isfe ans alimenta kil fission dits ojiisei chapitre xvi assistance actes annã mis actes soumis commission assistance portant notamment aliã nation location biens immeubles vente arbres taillis soumis gime forestier principe acquisition matã riel amã nagement fection outre appelã prononcer propositions commission assistance relatives nominations sein dical fourniture denrã alimentaires charbons produits pharmaceutiques appareils dicaux âªme marquã approbation concerne budgets modifications budgã taires comptes commission tablissements subordonnã hospice aveugles refuge sainte gertrude refuge ursulines caisse prã âªts approuvã octroi crã dits supplã mentaires organisme prã citã dons legs mis sujet acceptation legs donations faits charge pulture crã ation profit musã domicile secours poursuivi instruction domicile secours indigents hospitalisã secourus habitant domicile secours prã sumã annã procã instruction affaires alors chiffre tait ajouter notamment bulletins renseignements population demandã commission assistance demandes extraits registres population formulã extraits casier judiciaire renseignements demandã commission assistance administrations charitables aliã collocations conformã ment dispositions loi loi juin gime aliã modifiã cembre collã chevinal prononcã cas collocations personnes explorã non admises personnes admises provisoirement libã arrã âªtã collocation pris gard personnes internã institut psychiatrie mises libertã essai conformã ment loi admis directement tablissement institut psychiatrie personnes admises provisoirement objet arrã âªtã collocation chiffres parenthã propositions soumises commission assistance favorablement transmises autoritã pitaux universitaires stpierre brugmann institut psychiatrie pavillon ouvert hospice infirmerie succursale pitaux maternitã couveuses refuge latour freins pital convalescents fixã arrã âªtã proposã orphelinats pouponnieres sevrã non sevrã tuberculeux pitaux universitaires institut bordet sana brugmann cancereux pitaux universitaires institut jules bordet alienes mentaux institut psychiatrie pavillon fermã xvii uvres sociales xvii uvres socia'"
      ]
     },
     "execution_count": 27,
     "metadata": {},
     "output_type": "execute_result"
    }
   ],
   "source": [
    "# Vérifier le résultat\n",
    "with open(os.path.join(data_path, f'_clean.txt'), 'r', encoding=\"ISO-8859-1\") as f:\n",
    "    after = f.read()\n",
    "\n",
    "after[:5000]"
   ]
  }
 ],
 "metadata": {
  "kernelspec": {
   "display_name": "Python 3 (ipykernel)",
   "language": "python",
   "name": "python3"
  },
  "language_info": {
   "codemirror_mode": {
    "name": "ipython",
    "version": 3
   },
   "file_extension": ".py",
   "mimetype": "text/x-python",
   "name": "python",
   "nbconvert_exporter": "python",
   "pygments_lexer": "ipython3",
   "version": "3.9.7"
  }
 },
 "nbformat": 4,
 "nbformat_minor": 4
}
