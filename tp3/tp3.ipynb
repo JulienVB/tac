{
 "cells": [
  {
   "cell_type": "markdown",
   "metadata": {},
   "source": [
    "# TP3 - VANBELLE Julien"
   ]
  },
  {
   "cell_type": "markdown",
   "metadata": {},
   "source": [
    "# Clustering de documents"
   ]
  },
  {
   "cell_type": "markdown",
   "metadata": {},
   "source": [
    "## Imports"
   ]
  },
  {
   "cell_type": "code",
   "execution_count": 1,
   "metadata": {},
   "outputs": [],
   "source": [
    "import collections\n",
    "import os\n",
    "import string\n",
    "import sys\n",
    "import nltk\n",
    "import numpy as np\n",
    "import matplotlib.pyplot as plt\n",
    "import pandas as pd\n",
    "\n",
    "from nltk import word_tokenize\n",
    "from nltk.corpus import stopwords\n",
    "from pprint import pprint\n",
    "from sklearn.cluster import KMeans\n",
    "from sklearn.feature_extraction.text import TfidfVectorizer\n",
    "from sklearn.decomposition import PCA\n",
    "from scipy.spatial.distance import cosine\n",
    "from gensim.models.phrases import Phrases, Phraser\n",
    "from gensim.models import Word2Vec\n",
    "from nltk.tokenize import wordpunct_tokenize\n",
    "from unidecode import unidecode"
   ]
  },
  {
   "cell_type": "code",
   "execution_count": 2,
   "metadata": {},
   "outputs": [
    {
     "name": "stderr",
     "output_type": "stream",
     "text": [
      "[nltk_data] Downloading package punkt to\n",
      "[nltk_data]     /Users/julienvanbelle/nltk_data...\n",
      "[nltk_data]   Package punkt is already up-to-date!\n"
     ]
    },
    {
     "data": {
      "text/plain": [
       "True"
      ]
     },
     "execution_count": 2,
     "metadata": {},
     "output_type": "execute_result"
    }
   ],
   "source": [
    "import nltk\n",
    "\n",
    "nltk.download('punkt')"
   ]
  },
  {
   "cell_type": "code",
   "execution_count": 3,
   "metadata": {},
   "outputs": [],
   "source": [
    "data_path = \"../data/txt/\""
   ]
  },
  {
   "cell_type": "markdown",
   "metadata": {},
   "source": [
    "## Choix de la décennie"
   ]
  },
  {
   "cell_type": "code",
   "execution_count": 4,
   "metadata": {},
   "outputs": [],
   "source": [
    "DECADE = '1960'"
   ]
  },
  {
   "cell_type": "markdown",
   "metadata": {},
   "source": [
    "## Charger tous les  fichiers de la décennie et en créer une liste de textes"
   ]
  },
  {
   "cell_type": "code",
   "execution_count": 5,
   "metadata": {},
   "outputs": [],
   "source": [
    "files = [f for f in sorted(os.listdir(data_path)) if f\"_{DECADE[:-1]}\" in f]"
   ]
  },
  {
   "cell_type": "code",
   "execution_count": 6,
   "metadata": {},
   "outputs": [
    {
     "data": {
      "text/plain": [
       "['Bxl_1960_Tome_II1_Part_1.txt',\n",
       " 'Bxl_1960_Tome_II1_Part_2.txt',\n",
       " 'Bxl_1960_Tome_II1_Part_3.txt',\n",
       " 'Bxl_1960_Tome_II1_Part_4.txt',\n",
       " 'Bxl_1960_Tome_II1_Part_5.txt']"
      ]
     },
     "execution_count": 6,
     "metadata": {},
     "output_type": "execute_result"
    }
   ],
   "source": [
    "# Exemple de fichiers\n",
    "files[:5]"
   ]
  },
  {
   "cell_type": "code",
   "execution_count": 7,
   "metadata": {},
   "outputs": [],
   "source": [
    "texts = [open(data_path + f).read() for f in files]"
   ]
  },
  {
   "cell_type": "code",
   "execution_count": 8,
   "metadata": {},
   "outputs": [
    {
     "data": {
      "text/plain": [
       "'PUBLICATION\\n\\nPERIODIQUE\\n\\nVILLE DE BRUXELLES\\n\\nAnnée 1960\\n\\nBULLETIN\\nCOMMUNAL\\nTOME II \"\\n_u\\n\\nImpr. H . 6 M . S C H A U M A N S\\nSociété\\n\\nAnonyme\\n\\nParvis Saint-Gilles, 41\\nBruxelles\\n1960\\n\\n\\x0c\\x0cN\" 14\\n\\nCOMPTE\\n\\nR E N D U D E L A S E A N C E D U 1\"\\' A O U T\\n\\nVILLE\\n\\nDE\\n\\n1960\\n\\nBRUXELLES\\n\\nBULLETIN\\n\\nCOMMUNAL\\n\\n(Publication\\n\\npériodique)\\n\\nA n n é e 1960\\n\\nCONSEIL\\n\\nS é a n c e du\\n\\nPRESIDENCE\\n\\nCOMMUNAL\\n\\n1\\n\\ner\\n\\naoût\\n\\nDE M'"
      ]
     },
     "execution_count": 8,
     "metadata": {},
     "output_type": "execute_result"
    }
   ],
   "source": [
    "# Exemple de textes\n",
    "texts[0][:400]"
   ]
  },
  {
   "cell_type": "markdown",
   "metadata": {},
   "source": [
    "## Vectoriser les documents à l'aide de TF-IDF"
   ]
  },
  {
   "cell_type": "code",
   "execution_count": 9,
   "metadata": {},
   "outputs": [],
   "source": [
    "# Création d'une fonction de pré-traitement\n",
    "def preprocessing(text, stem=True):\n",
    "    \"\"\" Tokenize text and remove punctuation \"\"\"\n",
    "    text = text.translate(string.punctuation)\n",
    "    tokens = word_tokenize(text)\n",
    "    return tokens"
   ]
  },
  {
   "cell_type": "markdown",
   "metadata": {},
   "source": [
    "### Instancier le modèle TF-IDF avec ses arguments"
   ]
  },
  {
   "cell_type": "code",
   "execution_count": 10,
   "metadata": {},
   "outputs": [],
   "source": [
    "vectorizer = TfidfVectorizer(\n",
    "    tokenizer=preprocessing,\n",
    "    stop_words=stopwords.words('french'),\n",
    "    max_df=0.5,\n",
    "    min_df=0.1,\n",
    "    lowercase=True)"
   ]
  },
  {
   "cell_type": "markdown",
   "metadata": {},
   "source": [
    "### Construire la matrice de vecteurs à l'aide de la fonction `fit_transform`"
   ]
  },
  {
   "cell_type": "code",
   "execution_count": 11,
   "metadata": {},
   "outputs": [
    {
     "name": "stdout",
     "output_type": "stream",
     "text": [
      "CPU times: user 1min 30s, sys: 502 ms, total: 1min 30s\n",
      "Wall time: 1min 35s\n"
     ]
    }
   ],
   "source": [
    "%time tfidf_vectors = vectorizer.fit_transform(texts)"
   ]
  },
  {
   "cell_type": "code",
   "execution_count": 12,
   "metadata": {},
   "outputs": [
    {
     "data": {
      "text/plain": [
       "<420x6466 sparse matrix of type '<class 'numpy.float64'>'\n",
       "\twith 574279 stored elements in Compressed Sparse Row format>"
      ]
     },
     "execution_count": 12,
     "metadata": {},
     "output_type": "execute_result"
    }
   ],
   "source": [
    "# Détail de la matrice\n",
    "tfidf_vectors"
   ]
  },
  {
   "cell_type": "markdown",
   "metadata": {},
   "source": [
    "### Imprimer le vecteur tf-IDF du premier document"
   ]
  },
  {
   "cell_type": "code",
   "execution_count": 13,
   "metadata": {},
   "outputs": [
    {
     "data": {
      "text/plain": [
       "+considérant    0.300647\n",
       "fer             0.228639\n",
       "curage          0.207466\n",
       "dma             0.153796\n",
       "art             0.147675\n",
       "                  ...   \n",
       "engagé          0.000000\n",
       "engager         0.000000\n",
       "engagements     0.000000\n",
       "engage          0.000000\n",
       "™               0.000000\n",
       "Length: 6466, dtype: float64"
      ]
     },
     "execution_count": 13,
     "metadata": {},
     "output_type": "execute_result"
    }
   ],
   "source": [
    "pd.Series(\n",
    "    tfidf_vectors[0].toarray()[0],\n",
    "    index=vectorizer.get_feature_names_out()\n",
    "    ).sort_values(ascending=False)"
   ]
  },
  {
   "cell_type": "markdown",
   "metadata": {},
   "source": [
    "### Nombre de clusters"
   ]
  },
  {
   "cell_type": "code",
   "execution_count": 14,
   "metadata": {},
   "outputs": [],
   "source": [
    "N_CLUSTERS = 3"
   ]
  },
  {
   "cell_type": "code",
   "execution_count": 15,
   "metadata": {},
   "outputs": [],
   "source": [
    "km_model = KMeans(n_clusters=N_CLUSTERS)"
   ]
  },
  {
   "cell_type": "markdown",
   "metadata": {},
   "source": [
    "### Application du clustering à l'aide de la fonction `fit_predict`"
   ]
  },
  {
   "cell_type": "code",
   "execution_count": 16,
   "metadata": {},
   "outputs": [],
   "source": [
    "clusters = km_model.fit_predict(tfidf_vectors)"
   ]
  },
  {
   "cell_type": "code",
   "execution_count": 17,
   "metadata": {},
   "outputs": [],
   "source": [
    "clustering = collections.defaultdict(list)\n",
    "\n",
    "for idx, label in enumerate(clusters):\n",
    "    clustering[label].append(files[idx])"
   ]
  },
  {
   "cell_type": "code",
   "execution_count": 18,
   "metadata": {},
   "outputs": [
    {
     "name": "stdout",
     "output_type": "stream",
     "text": [
      "{0: ['Bxl_1963_Tome_II1_Part_6.txt',\n",
      "     'Bxl_1963_Tome_II1_Part_8.txt',\n",
      "     'Bxl_1963_Tome_II1_Part_9.txt',\n",
      "     'Bxl_1963_Tome_II2_Part_2.txt',\n",
      "     'Bxl_1963_Tome_II2_Part_3.txt',\n",
      "     'Bxl_1963_Tome_II2_Part_4.txt',\n",
      "     'Bxl_1963_Tome_II2_Part_5.txt',\n",
      "     'Bxl_1963_Tome_II2_Part_8.txt',\n",
      "     'Bxl_1964_Tome_II1_Part_4.txt',\n",
      "     'Bxl_1964_Tome_II1_Part_8.txt',\n",
      "     'Bxl_1964_Tome_II1_Part_9.txt',\n",
      "     'Bxl_1964_Tome_II2_Part_1.txt',\n",
      "     'Bxl_1964_Tome_II2_Part_2.txt',\n",
      "     'Bxl_1964_Tome_II2_Part_3.txt',\n",
      "     'Bxl_1964_Tome_II2_Part_7.txt',\n",
      "     'Bxl_1964_Tome_I_Part_11.txt',\n",
      "     'Bxl_1965_Tome_II1_Part_1.txt',\n",
      "     'Bxl_1965_Tome_II1_Part_2.txt',\n",
      "     'Bxl_1965_Tome_II1_Part_3.txt',\n",
      "     'Bxl_1965_Tome_II1_Part_5.txt',\n",
      "     'Bxl_1965_Tome_II1_Part_7.txt',\n",
      "     'Bxl_1965_Tome_II1_Part_9.txt',\n",
      "     'Bxl_1965_Tome_II2_Part_1.txt',\n",
      "     'Bxl_1965_Tome_II2_Part_10.txt',\n",
      "     'Bxl_1965_Tome_II2_Part_11.txt',\n",
      "     'Bxl_1965_Tome_II2_Part_12.txt',\n",
      "     'Bxl_1965_Tome_II2_Part_2.txt',\n",
      "     'Bxl_1965_Tome_II2_Part_3.txt',\n",
      "     'Bxl_1965_Tome_II2_Part_5.txt',\n",
      "     'Bxl_1965_Tome_II2_Part_7.txt',\n",
      "     'Bxl_1965_Tome_II2_Part_8.txt',\n",
      "     'Bxl_1965_Tome_II2_Part_9.txt',\n",
      "     'Bxl_1965_Tome_I_Part_1.txt',\n",
      "     'Bxl_1965_Tome_I_Part_10.txt',\n",
      "     'Bxl_1965_Tome_I_Part_12.txt',\n",
      "     'Bxl_1965_Tome_I_Part_3.txt',\n",
      "     'Bxl_1965_Tome_I_Part_4.txt',\n",
      "     'Bxl_1965_Tome_I_Part_6.txt',\n",
      "     'Bxl_1965_Tome_I_Part_7.txt',\n",
      "     'Bxl_1965_Tome_I_Part_8.txt',\n",
      "     'Bxl_1965_Tome_I_Part_9.txt',\n",
      "     'Bxl_1965_Tome_RptAn_Part_4.txt',\n",
      "     'Bxl_1965_Tome_RptAn_Part_5.txt',\n",
      "     'Bxl_1965_Tome_RptAn_Part_6.txt',\n",
      "     'Bxl_1965_Tome_RptAn_Part_7.txt',\n",
      "     'Bxl_1966_Tome_I1_Part_1.txt',\n",
      "     'Bxl_1966_Tome_I1_Part_10.txt',\n",
      "     'Bxl_1966_Tome_I1_Part_2.txt',\n",
      "     'Bxl_1966_Tome_I1_Part_3.txt',\n",
      "     'Bxl_1966_Tome_I1_Part_4.txt',\n",
      "     'Bxl_1966_Tome_I1_Part_5.txt',\n",
      "     'Bxl_1966_Tome_I1_Part_6.txt',\n",
      "     'Bxl_1966_Tome_I1_Part_7.txt',\n",
      "     'Bxl_1966_Tome_I1_Part_8.txt',\n",
      "     'Bxl_1966_Tome_I1_Part_9.txt',\n",
      "     'Bxl_1966_Tome_I2_Part_1.txt',\n",
      "     'Bxl_1966_Tome_I2_Part_2.txt',\n",
      "     'Bxl_1966_Tome_I2_Part_3.txt',\n",
      "     'Bxl_1966_Tome_I2_Part_4.txt',\n",
      "     'Bxl_1966_Tome_I2_Part_5.txt',\n",
      "     'Bxl_1966_Tome_I2_Part_6.txt',\n",
      "     'Bxl_1966_Tome_I2_Part_7.txt',\n",
      "     'Bxl_1966_Tome_I2_Part_8.txt',\n",
      "     'Bxl_1966_Tome_I2_Part_9.txt',\n",
      "     'Bxl_1966_Tome_II1_Part_1.txt',\n",
      "     'Bxl_1966_Tome_II1_Part_10.txt',\n",
      "     'Bxl_1966_Tome_II1_Part_2.txt',\n",
      "     'Bxl_1966_Tome_II1_Part_3.txt',\n",
      "     'Bxl_1966_Tome_II1_Part_4.txt',\n",
      "     'Bxl_1966_Tome_II1_Part_5.txt',\n",
      "     'Bxl_1966_Tome_II1_Part_6.txt',\n",
      "     'Bxl_1966_Tome_II1_Part_7.txt',\n",
      "     'Bxl_1966_Tome_II1_Part_8.txt',\n",
      "     'Bxl_1966_Tome_II1_Part_9.txt',\n",
      "     'Bxl_1966_Tome_II2_Part_1.txt',\n",
      "     'Bxl_1966_Tome_II2_Part_11.txt',\n",
      "     'Bxl_1966_Tome_II2_Part_12.txt',\n",
      "     'Bxl_1966_Tome_II2_Part_2.txt',\n",
      "     'Bxl_1966_Tome_II2_Part_3.txt',\n",
      "     'Bxl_1966_Tome_II2_Part_4.txt',\n",
      "     'Bxl_1966_Tome_II2_Part_5.txt',\n",
      "     'Bxl_1966_Tome_II2_Part_6.txt',\n",
      "     'Bxl_1966_Tome_II2_Part_7.txt',\n",
      "     'Bxl_1966_Tome_II2_Part_8.txt',\n",
      "     'Bxl_1966_Tome_II2_Part_9.txt',\n",
      "     'Bxl_1966_Tome_RptAn_Part_4.txt',\n",
      "     'Bxl_1966_Tome_RptAn_Part_5.txt',\n",
      "     'Bxl_1966_Tome_RptAn_Part_6.txt',\n",
      "     'Bxl_1967_Tome_I1_Part_1.txt',\n",
      "     'Bxl_1967_Tome_I1_Part_10.txt',\n",
      "     'Bxl_1967_Tome_I1_Part_2.txt',\n",
      "     'Bxl_1967_Tome_I1_Part_3.txt',\n",
      "     'Bxl_1967_Tome_I1_Part_4.txt',\n",
      "     'Bxl_1967_Tome_I1_Part_5.txt',\n",
      "     'Bxl_1967_Tome_I1_Part_6.txt',\n",
      "     'Bxl_1967_Tome_I1_Part_7.txt',\n",
      "     'Bxl_1967_Tome_I1_Part_8.txt',\n",
      "     'Bxl_1967_Tome_I1_Part_9.txt',\n",
      "     'Bxl_1967_Tome_I2_Part_1.txt',\n",
      "     'Bxl_1967_Tome_I2_Part_2.txt',\n",
      "     'Bxl_1967_Tome_I2_Part_3.txt',\n",
      "     'Bxl_1967_Tome_I2_Part_4.txt',\n",
      "     'Bxl_1967_Tome_I2_Part_5.txt',\n",
      "     'Bxl_1967_Tome_I2_Part_6.txt',\n",
      "     'Bxl_1967_Tome_I2_Part_7.txt',\n",
      "     'Bxl_1967_Tome_I2_Part_8.txt',\n",
      "     'Bxl_1967_Tome_I2_Part_9.txt',\n",
      "     'Bxl_1967_Tome_II1_Part_1.txt',\n",
      "     'Bxl_1967_Tome_II1_Part_10.txt',\n",
      "     'Bxl_1967_Tome_II1_Part_2.txt',\n",
      "     'Bxl_1967_Tome_II1_Part_3.txt',\n",
      "     'Bxl_1967_Tome_II1_Part_5.txt',\n",
      "     'Bxl_1967_Tome_II1_Part_6.txt',\n",
      "     'Bxl_1967_Tome_II1_Part_7.txt',\n",
      "     'Bxl_1967_Tome_II1_Part_8.txt',\n",
      "     'Bxl_1967_Tome_II1_Part_9.txt',\n",
      "     'Bxl_1967_Tome_II2_Part_1.txt',\n",
      "     'Bxl_1967_Tome_II2_Part_10.txt',\n",
      "     'Bxl_1967_Tome_II2_Part_2.txt',\n",
      "     'Bxl_1967_Tome_II2_Part_3.txt',\n",
      "     'Bxl_1967_Tome_II2_Part_4.txt',\n",
      "     'Bxl_1967_Tome_II2_Part_5.txt',\n",
      "     'Bxl_1967_Tome_II2_Part_6.txt',\n",
      "     'Bxl_1967_Tome_II2_Part_7.txt',\n",
      "     'Bxl_1967_Tome_II2_Part_8.txt',\n",
      "     'Bxl_1967_Tome_II2_Part_9.txt',\n",
      "     'Bxl_1968_Tome_I1_Part_1.txt',\n",
      "     'Bxl_1968_Tome_I1_Part_2.txt',\n",
      "     'Bxl_1968_Tome_I1_Part_3.txt',\n",
      "     'Bxl_1968_Tome_I1_Part_4.txt',\n",
      "     'Bxl_1968_Tome_I1_Part_5.txt',\n",
      "     'Bxl_1968_Tome_I1_Part_6.txt',\n",
      "     'Bxl_1968_Tome_I1_Part_7.txt',\n",
      "     'Bxl_1968_Tome_I1_Part_8.txt',\n",
      "     'Bxl_1968_Tome_I1_Part_9.txt',\n",
      "     'Bxl_1968_Tome_I2_Part_1.txt',\n",
      "     'Bxl_1968_Tome_I2_Part_2.txt',\n",
      "     'Bxl_1968_Tome_I2_Part_3.txt',\n",
      "     'Bxl_1968_Tome_I2_Part_4.txt',\n",
      "     'Bxl_1968_Tome_I2_Part_5.txt',\n",
      "     'Bxl_1968_Tome_I2_Part_6.txt',\n",
      "     'Bxl_1968_Tome_I2_Part_7.txt',\n",
      "     'Bxl_1968_Tome_II1_Part_1.txt',\n",
      "     'Bxl_1968_Tome_II1_Part_2.txt',\n",
      "     'Bxl_1968_Tome_II1_Part_3.txt',\n",
      "     'Bxl_1968_Tome_II1_Part_4.txt',\n",
      "     'Bxl_1968_Tome_II1_Part_5.txt',\n",
      "     'Bxl_1968_Tome_II1_Part_6.txt',\n",
      "     'Bxl_1968_Tome_II1_Part_7.txt',\n",
      "     'Bxl_1968_Tome_II2_Part_1.txt',\n",
      "     'Bxl_1968_Tome_II2_Part_10.txt',\n",
      "     'Bxl_1968_Tome_II2_Part_11.txt',\n",
      "     'Bxl_1968_Tome_II2_Part_12.txt',\n",
      "     'Bxl_1968_Tome_II2_Part_13.txt',\n",
      "     'Bxl_1968_Tome_II2_Part_2.txt',\n",
      "     'Bxl_1968_Tome_II2_Part_3.txt',\n",
      "     'Bxl_1968_Tome_II2_Part_4.txt',\n",
      "     'Bxl_1968_Tome_II2_Part_5.txt',\n",
      "     'Bxl_1968_Tome_II2_Part_6.txt',\n",
      "     'Bxl_1968_Tome_II2_Part_7.txt',\n",
      "     'Bxl_1968_Tome_II2_Part_8.txt',\n",
      "     'Bxl_1968_Tome_II2_Part_9.txt',\n",
      "     'Bxl_1969_Tome_I1_Part_1.txt',\n",
      "     'Bxl_1969_Tome_I1_Part_2.txt',\n",
      "     'Bxl_1969_Tome_I1_Part_3.txt',\n",
      "     'Bxl_1969_Tome_I1_Part_4.txt',\n",
      "     'Bxl_1969_Tome_I1_Part_5.txt',\n",
      "     'Bxl_1969_Tome_I1_Part_6.txt',\n",
      "     'Bxl_1969_Tome_I1_Part_7.txt',\n",
      "     'Bxl_1969_Tome_I1_Part_8.txt',\n",
      "     'Bxl_1969_Tome_I2_Part_1.txt',\n",
      "     'Bxl_1969_Tome_I2_Part_2.txt',\n",
      "     'Bxl_1969_Tome_I2_Part_3.txt',\n",
      "     'Bxl_1969_Tome_I2_Part_4.txt',\n",
      "     'Bxl_1969_Tome_I2_Part_5.txt',\n",
      "     'Bxl_1969_Tome_I2_Part_6.txt',\n",
      "     'Bxl_1969_Tome_I2_Part_7.txt',\n",
      "     'Bxl_1969_Tome_I2_Part_8.txt',\n",
      "     'Bxl_1969_Tome_II1_Part_1.txt',\n",
      "     'Bxl_1969_Tome_II1_Part_2.txt',\n",
      "     'Bxl_1969_Tome_II1_Part_3.txt',\n",
      "     'Bxl_1969_Tome_II1_Part_4.txt',\n",
      "     'Bxl_1969_Tome_II1_Part_5.txt',\n",
      "     'Bxl_1969_Tome_II1_Part_6.txt',\n",
      "     'Bxl_1969_Tome_II1_Part_7.txt',\n",
      "     'Bxl_1969_Tome_II1_Part_8.txt',\n",
      "     'Bxl_1969_Tome_II2_Part_1.txt',\n",
      "     'Bxl_1969_Tome_II2_Part_10.txt',\n",
      "     'Bxl_1969_Tome_II2_Part_11.txt',\n",
      "     'Bxl_1969_Tome_II2_Part_2.txt',\n",
      "     'Bxl_1969_Tome_II2_Part_3.txt',\n",
      "     'Bxl_1969_Tome_II2_Part_4.txt',\n",
      "     'Bxl_1969_Tome_II2_Part_5.txt',\n",
      "     'Bxl_1969_Tome_II2_Part_6.txt',\n",
      "     'Bxl_1969_Tome_II2_Part_7.txt',\n",
      "     'Bxl_1969_Tome_II2_Part_8.txt',\n",
      "     'Bxl_1969_Tome_II2_Part_9.txt',\n",
      "     'Bxl_1969_Tome_RptAn_Part_1.txt',\n",
      "     'Bxl_1969_Tome_RptAn_Part_4.txt',\n",
      "     'Bxl_1969_Tome_RptAn_Part_5.txt',\n",
      "     'Bxl_1969_Tome_RptAn_Part_6.txt',\n",
      "     'Bxl_1969_Tome_RptAn_Part_7.txt'],\n",
      " 1: ['Bxl_1960_Tome_II2_Part_7.txt',\n",
      "     'Bxl_1960_Tome_II2_Part_8.txt',\n",
      "     'Bxl_1960_Tome_II2_Part_9.txt',\n",
      "     'Bxl_1960_Tome_I_Part_12.txt',\n",
      "     'Bxl_1960_Tome_I_Part_13.txt',\n",
      "     'Bxl_1961_Tome_II2_Part_7.txt',\n",
      "     'Bxl_1961_Tome_II2_Part_8.txt',\n",
      "     'Bxl_1961_Tome_I_Part_11.txt',\n",
      "     'Bxl_1961_Tome_I_Part_12.txt',\n",
      "     'Bxl_1962_Tome_II2_Part_8.txt',\n",
      "     'Bxl_1962_Tome_II2_Part_9.txt',\n",
      "     'Bxl_1962_Tome_I_Part_12.txt',\n",
      "     'Bxl_1962_Tome_I_Part_13.txt',\n",
      "     'Bxl_1963_Tome_II2_Part_11.txt',\n",
      "     'Bxl_1963_Tome_II2_Part_12.txt',\n",
      "     'Bxl_1963_Tome_I_Part_12.txt',\n",
      "     'Bxl_1963_Tome_I_Part_13.txt',\n",
      "     'Bxl_1964_Tome_II2_Part_10.txt',\n",
      "     'Bxl_1964_Tome_II2_Part_11.txt',\n",
      "     'Bxl_1964_Tome_I_Part_14.txt',\n",
      "     'Bxl_1965_Tome_II2_Part_13.txt',\n",
      "     'Bxl_1965_Tome_II2_Part_14.txt',\n",
      "     'Bxl_1965_Tome_I_Part_13.txt',\n",
      "     'Bxl_1965_Tome_I_Part_14.txt',\n",
      "     'Bxl_1966_Tome_I2_Part_10.txt',\n",
      "     'Bxl_1966_Tome_I2_Part_11.txt',\n",
      "     'Bxl_1966_Tome_II2_Part_13.txt',\n",
      "     'Bxl_1966_Tome_II2_Part_14.txt',\n",
      "     'Bxl_1967_Tome_I2_Part_10.txt',\n",
      "     'Bxl_1968_Tome_I2_Part_8.txt',\n",
      "     'Bxl_1968_Tome_I2_Part_9.txt',\n",
      "     'Bxl_1968_Tome_II1_Part_8.txt',\n",
      "     'Bxl_1968_Tome_II1_Part_9.txt',\n",
      "     'Bxl_1969_Tome_I2_Part_10.txt',\n",
      "     'Bxl_1969_Tome_I2_Part_9.txt',\n",
      "     'Bxl_1969_Tome_II2_Part_12.txt',\n",
      "     'Bxl_1969_Tome_II2_Part_13.txt'],\n",
      " 2: ['Bxl_1960_Tome_II1_Part_1.txt',\n",
      "     'Bxl_1960_Tome_II1_Part_2.txt',\n",
      "     'Bxl_1960_Tome_II1_Part_3.txt',\n",
      "     'Bxl_1960_Tome_II1_Part_4.txt',\n",
      "     'Bxl_1960_Tome_II1_Part_5.txt',\n",
      "     'Bxl_1960_Tome_II1_Part_6.txt',\n",
      "     'Bxl_1960_Tome_II1_Part_7.txt',\n",
      "     'Bxl_1960_Tome_II1_Part_8.txt',\n",
      "     'Bxl_1960_Tome_II2_Part_1.txt',\n",
      "     'Bxl_1960_Tome_II2_Part_2.txt',\n",
      "     'Bxl_1960_Tome_II2_Part_3.txt',\n",
      "     'Bxl_1960_Tome_II2_Part_4.txt',\n",
      "     'Bxl_1960_Tome_II2_Part_5.txt',\n",
      "     'Bxl_1960_Tome_II2_Part_6.txt',\n",
      "     'Bxl_1960_Tome_I_Part_1.txt',\n",
      "     'Bxl_1960_Tome_I_Part_10.txt',\n",
      "     'Bxl_1960_Tome_I_Part_11.txt',\n",
      "     'Bxl_1960_Tome_I_Part_2.txt',\n",
      "     'Bxl_1960_Tome_I_Part_3.txt',\n",
      "     'Bxl_1960_Tome_I_Part_4.txt',\n",
      "     'Bxl_1960_Tome_I_Part_5.txt',\n",
      "     'Bxl_1960_Tome_I_Part_6.txt',\n",
      "     'Bxl_1960_Tome_I_Part_7.txt',\n",
      "     'Bxl_1960_Tome_I_Part_8.txt',\n",
      "     'Bxl_1960_Tome_I_Part_9.txt',\n",
      "     'Bxl_1960_Tome_RptAn_Part_1.txt',\n",
      "     'Bxl_1960_Tome_RptAn_Part_2.txt',\n",
      "     'Bxl_1960_Tome_RptAn_Part_3.txt',\n",
      "     'Bxl_1960_Tome_RptAn_Part_4.txt',\n",
      "     'Bxl_1960_Tome_RptAn_Part_5.txt',\n",
      "     'Bxl_1960_Tome_RptAn_Part_6.txt',\n",
      "     'Bxl_1960_Tome_RptAn_Part_7.txt',\n",
      "     'Bxl_1960_Tome_RptAn_Part_8.txt',\n",
      "     'Bxl_1960_Tome_RptAn_Part_9.txt',\n",
      "     'Bxl_1961_Tome_II1_Part_1.txt',\n",
      "     'Bxl_1961_Tome_II1_Part_2.txt',\n",
      "     'Bxl_1961_Tome_II1_Part_3.txt',\n",
      "     'Bxl_1961_Tome_II1_Part_4.txt',\n",
      "     'Bxl_1961_Tome_II1_Part_5.txt',\n",
      "     'Bxl_1961_Tome_II1_Part_6.txt',\n",
      "     'Bxl_1961_Tome_II1_Part_7.txt',\n",
      "     'Bxl_1961_Tome_II1_Part_8.txt',\n",
      "     'Bxl_1961_Tome_II2_Part_1.txt',\n",
      "     'Bxl_1961_Tome_II2_Part_2.txt',\n",
      "     'Bxl_1961_Tome_II2_Part_3.txt',\n",
      "     'Bxl_1961_Tome_II2_Part_4.txt',\n",
      "     'Bxl_1961_Tome_II2_Part_5.txt',\n",
      "     'Bxl_1961_Tome_II2_Part_6.txt',\n",
      "     'Bxl_1961_Tome_I_Part_1.txt',\n",
      "     'Bxl_1961_Tome_I_Part_10.txt',\n",
      "     'Bxl_1961_Tome_I_Part_2.txt',\n",
      "     'Bxl_1961_Tome_I_Part_3.txt',\n",
      "     'Bxl_1961_Tome_I_Part_4.txt',\n",
      "     'Bxl_1961_Tome_I_Part_5.txt',\n",
      "     'Bxl_1961_Tome_I_Part_6.txt',\n",
      "     'Bxl_1961_Tome_I_Part_7.txt',\n",
      "     'Bxl_1961_Tome_I_Part_8.txt',\n",
      "     'Bxl_1961_Tome_I_Part_9.txt',\n",
      "     'Bxl_1961_Tome_RptAn_Part_1.txt',\n",
      "     'Bxl_1961_Tome_RptAn_Part_4.txt',\n",
      "     'Bxl_1961_Tome_RptAn_Part_6.txt',\n",
      "     'Bxl_1961_Tome_RptAn_Part_7.txt',\n",
      "     'Bxl_1961_Tome_RptAn_Part_8.txt',\n",
      "     'Bxl_1962_Tome_II1_Part_1.txt',\n",
      "     'Bxl_1962_Tome_II1_Part_2.txt',\n",
      "     'Bxl_1962_Tome_II1_Part_3.txt',\n",
      "     'Bxl_1962_Tome_II1_Part_4.txt',\n",
      "     'Bxl_1962_Tome_II1_Part_5.txt',\n",
      "     'Bxl_1962_Tome_II1_Part_6.txt',\n",
      "     'Bxl_1962_Tome_II1_Part_7.txt',\n",
      "     'Bxl_1962_Tome_II1_Part_8.txt',\n",
      "     'Bxl_1962_Tome_II1_Part_9.txt',\n",
      "     'Bxl_1962_Tome_II2_Part_1.txt',\n",
      "     'Bxl_1962_Tome_II2_Part_2.txt',\n",
      "     'Bxl_1962_Tome_II2_Part_3.txt',\n",
      "     'Bxl_1962_Tome_II2_Part_4.txt',\n",
      "     'Bxl_1962_Tome_II2_Part_5.txt',\n",
      "     'Bxl_1962_Tome_II2_Part_6.txt',\n",
      "     'Bxl_1962_Tome_II2_Part_7.txt',\n",
      "     'Bxl_1962_Tome_I_Part_1.txt',\n",
      "     'Bxl_1962_Tome_I_Part_10.txt',\n",
      "     'Bxl_1962_Tome_I_Part_11.txt',\n",
      "     'Bxl_1962_Tome_I_Part_2.txt',\n",
      "     'Bxl_1962_Tome_I_Part_3.txt',\n",
      "     'Bxl_1962_Tome_I_Part_4.txt',\n",
      "     'Bxl_1962_Tome_I_Part_5.txt',\n",
      "     'Bxl_1962_Tome_I_Part_6.txt',\n",
      "     'Bxl_1962_Tome_I_Part_7.txt',\n",
      "     'Bxl_1962_Tome_I_Part_8.txt',\n",
      "     'Bxl_1962_Tome_I_Part_9.txt',\n",
      "     'Bxl_1962_Tome_RptAn_Part_1.txt',\n",
      "     'Bxl_1962_Tome_RptAn_Part_2.txt',\n",
      "     'Bxl_1962_Tome_RptAn_Part_3.txt',\n",
      "     'Bxl_1962_Tome_RptAn_Part_4.txt',\n",
      "     'Bxl_1962_Tome_RptAn_Part_5.txt',\n",
      "     'Bxl_1962_Tome_RptAn_Part_6.txt',\n",
      "     'Bxl_1962_Tome_RptAn_Part_7.txt',\n",
      "     'Bxl_1962_Tome_RptAn_Part_8.txt',\n",
      "     'Bxl_1963_Tome_II1_Part_1.txt',\n",
      "     'Bxl_1963_Tome_II1_Part_2.txt',\n",
      "     'Bxl_1963_Tome_II1_Part_3.txt',\n",
      "     'Bxl_1963_Tome_II1_Part_4.txt',\n",
      "     'Bxl_1963_Tome_II1_Part_5.txt',\n",
      "     'Bxl_1963_Tome_II1_Part_7.txt',\n",
      "     'Bxl_1963_Tome_II2_Part_1.txt',\n",
      "     'Bxl_1963_Tome_II2_Part_10.txt',\n",
      "     'Bxl_1963_Tome_II2_Part_6.txt',\n",
      "     'Bxl_1963_Tome_II2_Part_7.txt',\n",
      "     'Bxl_1963_Tome_II2_Part_9.txt',\n",
      "     'Bxl_1963_Tome_I_Part_1.txt',\n",
      "     'Bxl_1963_Tome_I_Part_10.txt',\n",
      "     'Bxl_1963_Tome_I_Part_11.txt',\n",
      "     'Bxl_1963_Tome_I_Part_2.txt',\n",
      "     'Bxl_1963_Tome_I_Part_3.txt',\n",
      "     'Bxl_1963_Tome_I_Part_4.txt',\n",
      "     'Bxl_1963_Tome_I_Part_5.txt',\n",
      "     'Bxl_1963_Tome_I_Part_6.txt',\n",
      "     'Bxl_1963_Tome_I_Part_7.txt',\n",
      "     'Bxl_1963_Tome_I_Part_8.txt',\n",
      "     'Bxl_1963_Tome_I_Part_9.txt',\n",
      "     'Bxl_1963_Tome_RptAn_Part_1.txt',\n",
      "     'Bxl_1963_Tome_RptAn_Part_2.txt',\n",
      "     'Bxl_1963_Tome_RptAn_Part_3.txt',\n",
      "     'Bxl_1963_Tome_RptAn_Part_4.txt',\n",
      "     'Bxl_1963_Tome_RptAn_Part_5.txt',\n",
      "     'Bxl_1963_Tome_RptAn_Part_6.txt',\n",
      "     'Bxl_1963_Tome_RptAn_Part_7.txt',\n",
      "     'Bxl_1963_Tome_RptAn_Part_8.txt',\n",
      "     'Bxl_1964_Tome_II1_Part_1.txt',\n",
      "     'Bxl_1964_Tome_II1_Part_10.txt',\n",
      "     'Bxl_1964_Tome_II1_Part_11.txt',\n",
      "     'Bxl_1964_Tome_II1_Part_2.txt',\n",
      "     'Bxl_1964_Tome_II1_Part_3.txt',\n",
      "     'Bxl_1964_Tome_II1_Part_5.txt',\n",
      "     'Bxl_1964_Tome_II1_Part_6.txt',\n",
      "     'Bxl_1964_Tome_II1_Part_7.txt',\n",
      "     'Bxl_1964_Tome_II2_Part_4.txt',\n",
      "     'Bxl_1964_Tome_II2_Part_5.txt',\n",
      "     'Bxl_1964_Tome_II2_Part_6.txt',\n",
      "     'Bxl_1964_Tome_II2_Part_8.txt',\n",
      "     'Bxl_1964_Tome_II2_Part_9.txt',\n",
      "     'Bxl_1964_Tome_I_Part_1.txt',\n",
      "     'Bxl_1964_Tome_I_Part_10.txt',\n",
      "     'Bxl_1964_Tome_I_Part_12.txt',\n",
      "     'Bxl_1964_Tome_I_Part_13.txt',\n",
      "     'Bxl_1964_Tome_I_Part_2.txt',\n",
      "     'Bxl_1964_Tome_I_Part_3.txt',\n",
      "     'Bxl_1964_Tome_I_Part_4.txt',\n",
      "     'Bxl_1964_Tome_I_Part_5.txt',\n",
      "     'Bxl_1964_Tome_I_Part_6.txt',\n",
      "     'Bxl_1964_Tome_I_Part_7.txt',\n",
      "     'Bxl_1964_Tome_I_Part_8.txt',\n",
      "     'Bxl_1964_Tome_I_Part_9.txt',\n",
      "     'Bxl_1964_Tome_RptAn_Part_1.txt',\n",
      "     'Bxl_1964_Tome_RptAn_Part_2.txt',\n",
      "     'Bxl_1964_Tome_RptAn_Part_3.txt',\n",
      "     'Bxl_1964_Tome_RptAn_Part_4.txt',\n",
      "     'Bxl_1964_Tome_RptAn_Part_5.txt',\n",
      "     'Bxl_1964_Tome_RptAn_Part_6.txt',\n",
      "     'Bxl_1965_Tome_II1_Part_4.txt',\n",
      "     'Bxl_1965_Tome_II1_Part_6.txt',\n",
      "     'Bxl_1965_Tome_II1_Part_8.txt',\n",
      "     'Bxl_1965_Tome_II2_Part_4.txt',\n",
      "     'Bxl_1965_Tome_II2_Part_6.txt',\n",
      "     'Bxl_1965_Tome_I_Part_11.txt',\n",
      "     'Bxl_1965_Tome_I_Part_2.txt',\n",
      "     'Bxl_1965_Tome_I_Part_5.txt',\n",
      "     'Bxl_1965_Tome_RptAn_Part_1.txt',\n",
      "     'Bxl_1965_Tome_RptAn_Part_2.txt',\n",
      "     'Bxl_1965_Tome_RptAn_Part_3.txt',\n",
      "     'Bxl_1966_Tome_II1_Part_11.txt',\n",
      "     'Bxl_1966_Tome_II2_Part_10.txt',\n",
      "     'Bxl_1966_Tome_RptAn_Part_1.txt',\n",
      "     'Bxl_1966_Tome_RptAn_Part_2.txt',\n",
      "     'Bxl_1966_Tome_RptAn_Part_3.txt',\n",
      "     'Bxl_1967_Tome_I1_Part_11.txt',\n",
      "     'Bxl_1967_Tome_II1_Part_4.txt',\n",
      "     'Bxl_1967_Tome_II2_Part_11.txt',\n",
      "     'Bxl_1969_Tome_II2_Part_14.txt',\n",
      "     'Bxl_1969_Tome_RptAn_Part_2.txt',\n",
      "     'Bxl_1969_Tome_RptAn_Part_3.txt']}\n"
     ]
    }
   ],
   "source": [
    "pprint(dict(clustering))"
   ]
  },
  {
   "cell_type": "markdown",
   "metadata": {},
   "source": [
    "## Visualiser les clusters"
   ]
  },
  {
   "cell_type": "code",
   "execution_count": 19,
   "metadata": {},
   "outputs": [],
   "source": [
    "pca = PCA(n_components=2)\n",
    "reduced_vectors = pca.fit_transform(tfidf_vectors.toarray())"
   ]
  },
  {
   "cell_type": "code",
   "execution_count": 20,
   "metadata": {},
   "outputs": [
    {
     "data": {
      "text/plain": [
       "array([[-0.38270903, -0.30286674],\n",
       "       [-0.46021261, -0.36440026],\n",
       "       [-0.04160341,  0.07746178],\n",
       "       [-0.42760888, -0.33991354],\n",
       "       [-0.23794385, -0.10347365],\n",
       "       [-0.10847704, -0.04634236],\n",
       "       [-0.26295903, -0.1985568 ],\n",
       "       [-0.3096517 , -0.15191622],\n",
       "       [-0.08372557, -0.01569475],\n",
       "       [-0.0927909 ,  0.02180157]])"
      ]
     },
     "execution_count": 20,
     "metadata": {},
     "output_type": "execute_result"
    }
   ],
   "source": [
    "reduced_vectors[:10]"
   ]
  },
  {
   "cell_type": "markdown",
   "metadata": {},
   "source": [
    "### Générer le plot"
   ]
  },
  {
   "cell_type": "code",
   "execution_count": 21,
   "metadata": {},
   "outputs": [
    {
     "data": {
      "text/plain": [
       "<matplotlib.legend.Legend at 0x1345e5e80>"
      ]
     },
     "execution_count": 21,
     "metadata": {},
     "output_type": "execute_result"
    },
    {
     "data": {
      "image/png": "[encoded data removed]",
      "text/plain": [
       "<Figure size 720x720 with 1 Axes>"
      ]
     },
     "metadata": {
      "needs_background": "light"
     },
     "output_type": "display_data"
    }
   ],
   "source": [
    "x_axis = reduced_vectors[:, 0]\n",
    "y_axis = reduced_vectors[:, 1]\n",
    "\n",
    "plt.figure(figsize=(10,10))\n",
    "scatter = plt.scatter(x_axis, y_axis, s=100, c=clusters)\n",
    "\n",
    "# Ajouter les centroïdes\n",
    "centroids = pca.transform(km_model.cluster_centers_)\n",
    "plt.scatter(centroids[:, 0], centroids[:, 1],  marker = \"x\", s=100, linewidths = 2, color='black')\n",
    "\n",
    "# Ajouter la légende\n",
    "plt.legend(handles=scatter.legend_elements()[0], labels=set(clusters), title=\"Clusters\")"
   ]
  },
  {
   "cell_type": "markdown",
   "metadata": {},
   "source": [
    "# Word Embeddings : le modèle Word2Vec"
   ]
  },
  {
   "cell_type": "code",
   "execution_count": 2,
   "metadata": {},
   "outputs": [],
   "source": [
    "class MySentences(object):\n",
    "    \"\"\"Tokenize and Lemmatize sentences\"\"\"\n",
    "    def __init__(self, filename):\n",
    "        self.filename = filename\n",
    "\n",
    "    def __iter__(self):\n",
    "        for line in open(self.filename, encoding='utf-8', errors=\"backslashreplace\"):\n",
    "            yield [unidecode(w.lower()) for w in wordpunct_tokenize(line)]"
   ]
  },
  {
   "cell_type": "code",
   "execution_count": 3,
   "metadata": {},
   "outputs": [],
   "source": [
    "infile = f\"../data/sents.txt\"\n",
    "sentences = MySentences(infile)"
   ]
  },
  {
   "cell_type": "code",
   "execution_count": 5,
   "metadata": {},
   "outputs": [
    {
     "name": "stdout",
     "output_type": "stream",
     "text": [
      "<__main__.MySentences object at 0x11e158df0>\n"
     ]
    }
   ],
   "source": [
    "print(sentences)"
   ]
  },
  {
   "cell_type": "markdown",
   "metadata": {},
   "source": [
    "### Analyse des bigrams"
   ]
  },
  {
   "cell_type": "code",
   "execution_count": 24,
   "metadata": {},
   "outputs": [],
   "source": [
    "bigram_phrases = Phrases(sentences)"
   ]
  },
  {
   "cell_type": "code",
   "execution_count": 25,
   "metadata": {},
   "outputs": [
    {
     "data": {
      "text/plain": [
       "dict"
      ]
     },
     "execution_count": 25,
     "metadata": {},
     "output_type": "execute_result"
    }
   ],
   "source": [
    "type(bigram_phrases.vocab)"
   ]
  },
  {
   "cell_type": "code",
   "execution_count": 26,
   "metadata": {},
   "outputs": [
    {
     "data": {
      "text/plain": [
       "5978799"
      ]
     },
     "execution_count": 26,
     "metadata": {},
     "output_type": "execute_result"
    }
   ],
   "source": [
    "len(bigram_phrases.vocab.keys())"
   ]
  },
  {
   "cell_type": "code",
   "execution_count": 27,
   "metadata": {},
   "outputs": [
    {
     "name": "stdout",
     "output_type": "stream",
     "text": [
      "absence_&\n"
     ]
    }
   ],
   "source": [
    "key_ = list(bigram_phrases.vocab.keys())[144]\n",
    "print(key_)"
   ]
  },
  {
   "cell_type": "code",
   "execution_count": 28,
   "metadata": {},
   "outputs": [
    {
     "data": {
      "text/plain": [
       "1"
      ]
     },
     "execution_count": 28,
     "metadata": {},
     "output_type": "execute_result"
    }
   ],
   "source": [
    "bigram_phrases.vocab[key_]"
   ]
  },
  {
   "cell_type": "code",
   "execution_count": 29,
   "metadata": {},
   "outputs": [],
   "source": [
    "bigram_phraser = Phraser(phrases_model=bigram_phrases)"
   ]
  },
  {
   "cell_type": "markdown",
   "metadata": {},
   "source": [
    "### Analyse des trigrams"
   ]
  },
  {
   "cell_type": "code",
   "execution_count": 30,
   "metadata": {},
   "outputs": [],
   "source": [
    "trigram_phrases = Phrases(bigram_phraser[sentences])"
   ]
  },
  {
   "cell_type": "code",
   "execution_count": 31,
   "metadata": {},
   "outputs": [],
   "source": [
    "trigram_phraser = Phraser(phrases_model=trigram_phrases)"
   ]
  },
  {
   "cell_type": "code",
   "execution_count": 32,
   "metadata": {},
   "outputs": [],
   "source": [
    "corpus = list(trigram_phraser[bigram_phraser[sentences]])"
   ]
  },
  {
   "cell_type": "code",
   "execution_count": 33,
   "metadata": {},
   "outputs": [
    {
     "name": "stdout",
     "output_type": "stream",
     "text": [
      "[['v', 'i', 'l', 'l', 'e', 'de', 'bruxelles', 'bulletin', 'ires', '8eanas', 'dl', '!'], ['conseil_communal', 'annee', '1847', '.'], ['au', 'ville', 'de', 'b', 'r', 'u', 'x', 'e', 'l', 'l', 'e', 's', '.'], ['bulletin', 'conseil', 'aes', 'seances', 'communal', '.'], ['annee', '1847', '.'], ['bruxelles', ',', 'imprimerie', 'd', 'e', 'j', '.'], ['h', '.', 'b', 'r', 'i', 'a', 'r', 'd', ',', 'rite', 'n', 'e', 'u', 'v', 'e', ',', '3', '1', ',', 'faubourg', 'de', 'n', 'a', 'm', 'u', 'r', ',', '1', '84', '8', 'de', '!'], ['du', 'consei', 'dibi', 'e', '.', '-', 'communication', 'conclusions', 'de', 'la', 'section', 'des', 'du', 'nouvel_hospice', 'pour', 'les', 'av', 'enraisonde', 'l', \"'\", 'absence', '&', 'maladie', '.', 'le', 'conseil', 'ajourne', 'leurs', 'de', 'pierre', 'el', 'marchai', 'cles', 'des', 'taxes', 'communale', \"'\", 'bieniaance', 'eldeseianv', 'il', 'est', 'donne', 'communie', ';', 'mandant', 'le', 'o', 'p', 'fa', 'gnant', 'l', \"'\", 'envoi', 'de', 'leur', 'bn', 'par', 'l', \"'\", 'etat', 'obligatoire', 'p', 'secretariat', 'et', 'dtput', 'uf', 'proposition', 'dan', '*', 'le', 'meme', 'u', 'est', 'donne_lecture', 'd', \"'\", 't', 'glissement', 'd', \"'\", 'un', 'marc', '!'], [\"'*\", 'royales', ',', 'rue', 'de', 'la', 'i', 'd', 'e', 'k', ':', ';', 'i', 'fai', 'phonnenr', 'de', 'to', '>>', '<<', '<<', 'terrains', 'reumsderb', '.\"'], ['^', 'par', 'une', 'combinaison', 'f', 'sans', 'devoir', 'fe', 'soit', 'dow', 'ans', ',', 'un', 'marcs', '1', 's', 'u', 'r', 'l', 'iraocs', '.'], ['^', 'w', 'metres', 'sur', '35', 'l', ';', 'n', '^', 'espourvica', '.', 'lem', 'ed', '<<', 'l', 't', 'a', 'r', '<<<<', 'lle5la', '<<', 'compte', 'des', 'du', 'conseil', 'de', 'rendu', 'seances', 'communal', 'bruxelles', '.'], ['seance', 'du', '9', 'janvier', '.'], ['(', 'presidence', 'de', 'm', '.', 'le', 'chevalier', 'w', 'y', 'n', 's', 'de', 'raucourt', ',', 'bourgmestre', '.)'], ['sommaire', '.'], ['--', 'communication', 'de', 'pieces', '.'], ['--', 'discussion', 'et', 'adoption', 'des', 'conclusions', 'de', 'la', 'section', 'des_travaux_publics', 'relatives', 'a', 'l', \"'\", 'emplacement', 'du', 'nouvel_hospice', 'pour', 'les', 'aveugles', 'indigents', '.'], ['en', 'raison', 'de', 'l', \"'\", 'absence', 'de', 'm', '.', 'l', \"'\", 'echevin', 'doucet', ',', 'pour', 'cause', 'de', 'maladie', ',', 'le', 'conseil', 'ajourne', 'l', \"'\", 'examen', 'de', 'la', 'reclamation', 'des', 'tailleurs', 'de', 'pierre', 'et', 'marchands', 'de', 'briques', ',', 'contre', 'quelques', 'articles', 'des', 'taxes_communales', ',', 'et', 'la', 'discussion', 'des', 'budgets', 'de', 'la', 'bienfaisance', 'et', 'des', 'enfants', '-', 'trouves', '.'], ['il', 'est', 'donne_communication', 'd', \"'\", 'une', 'lettre', 'demm', '.', 'donies', ',', 'commandant', 'le', 'corps', 'des', 'pompiers', ',', 'et', 'adolphe', 'bartels', ',', 'accompagnant', 'l', \"'\", 'envoi', 'de', 'leur', 'brochure', 'relative', 'a', 'un', 'plan', 'd', \"'\", 'assurance', 'par', 'l', \"'\", 'etat', 'obligatoire', 'pour', 'tous', 'les', 'proprietaires', '.'], ['--', 'depot', 'au_secretariat', 'et', 'depot', 'sur', 'le', 'bureau', 'pendant', 'la', 'discussion', 'de', 'la', 'proposition', 'dans', 'le', 'meme', 'sens', 'faite', 'par', 'm', '.', 'le', 'conseiller', 'bartels', '.'], ['il', 'est', 'donne_lecture', 'd', \"'\", 'une', 'lettre', 'de', 'm', '.', 'bortier', ',', 'relative', 'a', 'l', \"'\", 'etablissement', 'd', \"'\", 'un', 'marche', 'dans', 'l', \"'\", 'ancien', 'local', 'des', 'messageries', 'royales', ',', 'rue', 'de', 'la', 'madeleine', '.'], ['elle', 'est', 'ainsi_concue', ':', '<<', 'j', \"'\", 'ai', 'l', \"'\", 'honneur', 'de', 'vous', 'adresser', 'un', 'plan', 'de', 'marche_couvert', 'a', 'etablir', 'sur', 'les', 'terrains', 'reunis', 'de', 'l', \"'\", 'hotel', 'des', 'messageries', ',', 'des', 'hospices', 'et', 'de', 'm', '.', 'partoes', '.'], ['par', 'une', 'combinaison_financiere', 'que_je_viens', 'vous', 'soumettre', ',', 'la', 'ville', 'de', 'bruxelles', ',', 'sans', 'devoir', 'faire', 'la', 'moindre', 'avance', 'de', 'fonds', ',', 'soit', 'pour', 'acquisitions', 'de', 'terrains', ',', 'soit', 'pour', 'constructions', ',', 'deviendrait', ',', 'au', 'bout', 'de', 'vingt_ans', ',', 'proprietaire', 'd', \"'\", 'un', 'marche', 'dont', 'le', 'produit', 'est', 'evalue', 'a', 'plus', 'de', 'soixante_mille', 'francs', '.'], ['<<', 'avant', 'la', 'mise', 'en', 'possession', 'de', 'ce', 'vaste', 'terrain', 'ayant', 'un', 'developpement', 'de', 'go', 'metres', 'sur', '33', ',', 'la', 'ville', 'pourrait', 'faire', 'construire', 'au', 'premier_etage', 'des', 'salles', 'pour', 'l', \"'\", 'academie', 'des', 'beaux', '-', 'arts', '.'], ['<<', '11', 'suffira', 'de', 'jeter', 'un', 'regard', 'sur', 'le', 'plan', 'et', 'd', \"'\", 'examiner', 'les', 'chiffres', 'qui', 'figurent', 'dans', 'l', \"'\", 'expose', ',', 'pour', 'comprendre', 'tous', 'les', 'avantages', 'que', 'presente', 'a', 'la', 'ville', 'de', 'bruxelles', 'la', 'realisation', 'de', 'ce', 'projet', '.'], ['<<', 'en', 'renvoyant', 'le', 'plan', 'a', 'la', 'commission', 'des_travaux_publics', ',', 'je_viens', 'vous_prier', ',', 'messieurs', ',', 'de', 'vouloir_bien', 'demander', 'qu', \"'\", 'un', 'rapport', 'soit', 'fait', 'immediatement', ':', 'un', 'contrat', 'me', 'lie', 'avec', 'l', \"'\", 'administration', 'des', 'hospices', '5', 'avant', 'le', '--', '2', '--', 't', 'fevrier', 'j', \"'\", 'ai', 'a', 'me', 'decider', 'sur', 'l', \"'\", 'acceptation', 'de', 'plusieurs_lots', 'de', 'terrains', 'ie', 'duquesnoy', '.'], ['11', 'est', 'donc', 'indispensable', 'que', 'la', 'ville', 'me', 'fasse_connaitre', 'sa', 'vision', 'avant', 'la', 'fin', 'du', 'mois', ',', 'sinon', 'ma_proposition', 'devra_etre', 'consideree', 'imrac', 'non', 'avenue', '.'], ['i', 'l', 'est', 'donne', 'ensuite', 'lecture', 'de', 'l', \"'\", 'expose_financier', 'de', 'l', \"'\", 'affaire', ',', 'dt', 'par', 'm', '.', 'bortier', 'dans', 'les', 'termes', 'suivans', ':', 'e', 'v', 'a', 'l', 'u', 'a', 't', 'i', 'o', 'n', 'des', 't', 'e', 'r', 'r', 'a', 'i', 'n', 's', ',', 'constructions', 'de', 'caves', 'e', 't', 'hangars', '.'], ['hotel', 'des', 'messageries', ',', 'calcule', 'sur', 'un', 'revenu', 'qui', 'a', 'ete', 'de', '12', ',', '000', 'f', 'r', '.'], [',', 'soit', '00', ',', '000', 'f', 'r', '.'], [';', 'a', 'deduire', 'de', 'cette', 'somme', 'la', 'valeur', 'de', 'deux', 'maisons_louees', ',', '000', 'f', 'r', '.'], [',', 'soit', '120', ',', '000', 'fr', '.,', 'y_compris', 'les', 'batimens', 'dans', 'la', 'cour', 'fr', '.'], ['180', ',', '000', 'terrains', 'achetes', 'a', 'l', \"'\", 'administration', 'des', 'hospices', '(', 'p', 'r', 'i', 'x', 'rachat', ')', '28', ',', '000', 'terrains', 'achetes', 'conditionnellement', 'a', 'la', 'meme', 'administraion', '(', 'prix', 'd', \"'\", 'achat', ')', '88', ',', '000', 'terrain', 'a', 'm', '.'], ['partoes', '10', ',', '000', 'constructions', 'de', 'caves', 'et', 'hangars', ',', 'p', 'r', 'i', 'x', '5', 'etablir', 'lors', 'de', \"'\", 'adjudication_publique', '(', 'devis', ')', '60', ',', '000', 'total', 'f', 'r', '.'], ['366', ',', '000', 'produit', 'du', 'm', 'a', 'r', 'c', 'h', 'e', '.'], ['1', ',', '250', 'metres', 'de', 'surface', ',', 'a', '10', 'centimes', 'par', 'metre', 'et', 'pendant', '311', 'jours', 'de', 'l', \"'\", 'annee', ',', 'donnent', 'un', 'produit', 'de', 'f', 'r', '.'], ['38', ',', '875', '1', ',', '875', 'metres', 'de', 'caves', ',', 'a', '5', 'centimes', 'par', 'metre', 'et', 'demi', ',', 'pendant', '311', 'jours', '23', ',', '325', 'total', 'f', 'r', '.'], ['62', ',', '200', 'n', '.', 'b', '.'], ['a', 'paris', ',', 'au', 'marche', 'de', 'la', 'madeleine', ',', 'ou', 'le', 'p', 'r', 'i', 'x', 'de', 'location', 'est', 'inferieur', 'a', 'celui', 'de', 'quatre', 'autres', 'marches', ',', 'le', 'metre', 'de', 'surface', 'est', 'loue', 'a', 'raison', 'de', '25', 'centimes', 'par', 'j', 'o', 'u', 'r', ',', 'dimanches', 'et', 'fetes', 'compris', '.'], ['de', 'tous', 'les', 'marches', 'de', 'p', 'a', 'r', 'i', 's', ',', 'le', 'marche', 'saint', '-', 'joseph', 'est', 'celui', 'ou', 'le', 'p', 'r', 'i', 'x', 'de', 'location', 'est', 'le', 'plus', 'eleve', ':', 'i', 'l', 'y', 'a', 'des', 'places', 'qui', 'se_louent', 'jusqu', \"'\", 'a', '6', 'f', 'r', '.'], ['les', '4', 'metres', '.'], ['depenses', '.'], ['interets', 'sur', '366', ',', '000', 'f', 'r', '.'], [',', 'a', '4', '1', '/', '2', 'p', '.'], ['c', '.', 'amortissement', 'solde', 'en', 'benefice', '.'], ['.'], ['total', '.'], ['f', 'r', '.'], ['16', ',', '470', '20', ',', '000', '25', ',', '730', 'f', 'r', '.'], ['62', ',', '200', 'recettes', '.'], ['location', 'du', 'marche', 'de', 'la', 'madeleine', '.'], ['total', '.'], ['.'], ['f', 'r', '.'], ['62', ',', '200', 'f', 'r', '.'], ['62', ',', '200', 'solde', 'en', 'benefice', ',', 'l', 'e', 'annee', 'r', 'f', 'r', '.'], ['25', ',', '730', 'resume', '.'], ['la', 'ville', 'de', 'bruxelles', ',', 'des', 'la', 'premiere_annee', ',', 'percevrait', ',', 'deduction_faite', 'des', 'interets', 'et', 'de', 'l', \"'\", 'amortissement', ',', 'la', 'somme', 'de', '25', ',', '080', 'f', 'r', '.'], [';', 'le', 'produit', 'du', 'marche', 'augmenterait', 'tous', 'les', 'ans', 'dans', 'la', 'proportion', 'de', 'la', 'reduction', 'du', 'capital', 'q', 'u', 'i', ',', 'par', 'l', \"'\", 'amortissement', 'annuel', 'de', '20', ',', '000', 'f', 'r', '.'], [',', 'se_trouvera', 'eteint', 'en', '18', 'ou', '19', 'ans', '.'], ['en', '1867', ',', 'l', 'a', 'ville', 'de', 'bruxelles', 'deviendrait_proprietaire', 'd', \"'\", 'un', 'marche', 'produisant', 'plus', 'de', 'soixante_mille', 'francs', '.'], ['--', '3', '--', 'proposition', 'de', 'm', '.'], ['bortier', 'est', 'renvoyee', 'a', 'sections', 'des_travaux_publics', 'et', 'des', 'finances', ',', 'avec', 'la', 'l', \"'\", 'examen', 'des', 'demande', 'd', \"'\", 'un', 'prompt_rapport', '.'], ['m', '.', 'le', 'secretaire_donne_lecture', 'd', 'u', 'rapport', 'de', 'l', 'a', 'section', 'des_travaux_publics', 'sur', 'l', \"'\", 'emplacement', 'de', 'l', \"'\", 'hospice', 'projete', 'pour', 'les', 'aveugles_indigens', '.'], ['m', 'u', 'le', 'college', 'a', 'communique', 'a', 'la', 'section', 'la', 'resolution_prise', 'le', '1', '5', 'decembre', 'dernier', ',', 'p', 'a', 'r', 'l', 'e', 'conseil_general', 'd', \"'\", 'administration', 'des', 'hospices', 'de', 'bruxelles', ',', 'portant', 'acceptation', 'de', 'la', 'donation', 'de', 'm', 'm', '.'], ['schuermans', 'et', 'verelst', 'p', 'o', 'u', 'r', 'l', 'a', 'construction', 'd', \"'\", 'un', 'hospice', 'destine', 'aux', 'aveugles_indigens', '.'], ['<<', 'a', 'cette', 'resolution', 'se_trouvent', 'joints', ':', '1', '<>', 'l', \"'\", 'acte', 'de', 'donation', 'modifie', 'dans', 'le', 'sens', 'de', 'la', 'deliberation', 'du', 'conseil_communal', ',', 'en', 'date', 'du', '4', 'novembre', '1', '8', '4', '6', ';', 'q', '2', 'deg', 'une', 'note', 'indiquant', 'les', 'changemens', 'apportes', 'au', 'projet', 'p', 'r', 'i', 'm', 'i', 't', 'i', 'f', 'tant', 'par', 'l', \"'\", 'administration', 'des', 'hospices', ',', 'que', 'par', 'les', 'donateurs', '.'], ['<<', 'cet', 'acte', 'a', 'fait', ',', 'messieurs', ',', 'de', 'la', 'part', 'de', 'la', 'section', ',', 'l', \"'\", 'objet', 'd', \"'\", 'un', 'examen_attentif', '.'], ['b', 'la', 'plupart', 'des', 'modifications_proposees', 'par', 'l', \"'\", 'administration', 'des', 'hospices', 'et', 'par', 'les', 'donateurs', 'sont', 'de', 'peu', 'importance', ',', 'et', 'ont', 'paru', 'de', 'nature', 'a', 'pouvoir', 'etre', 'adoptees', ';', 'seulement', 'la', 'section', 'pense', 'q', 'u', \"'\", 'i', 'l', 'conviendrait', 'de', 'changer', 'en', 'partie', 'la', 'redaction', 'du', 'SS', '2', 'de', 'l', \"'\", 'art', '.'], ['6', 'et', 'de', 'substituer', 'de', 'nouvelles_dispositions', 'a', 'celles', 'de', 'l', \"'\", 'art', '.'], ['8', 'de', 'l', \"'\", 'acte', 'de', 'donation', '.'], ['<', 'a', 'le', '2', '?'], ['SS', 'de', 'l', \"'\", 'art', '.'], ['6', 'dit', ':', '*', 'm', '.'], ['cluysenaar', ',', 'auteur', 'de', 'l', \"'\", 'avant', '-', 'projet', 'de', 'l', \"'\", 'hospice', 'a', 'construire', 'p', 'o', 'u', 'r', 'les', 'aveugles', ',', 's', \"'\", 'offranta', 'fournir_gratuitement', 'tous', 'les', 'profils', 'et', 'details', 'accessoires', 'et', 'a', 'diriger', 'les', 'travaux', 'jusqu', \"'\", 'a', 'leur', 'parfait_achevement', ',', 'le', 'conseil_communal', 'a', 'decide', 'qu', \"'\", 'au', 'cas', 'ou', 'ces', 'plans', 'seraient', 'admis', 'et', 'executes', 'sous', 'sa', 'direction', ',', 'i', 'l', 'l', 'u', 'i', 'sera', 'accorde', ',', 'etc', '.'], ['>>', '<<', 'la', 'section', 'propose', 'de', 'terminer', 'ainsi', ':', 'four', 'l', 'u', 'i', 'et', 'ses', 'descendans', ',', 'la', 'collation', 'd', \"'\", 'un', 'lit', 'dans', 'ledit', 'hospice', 'en', 'faveur', ',', 'soit', 'd', \"'\", 'un', 'membre', 'de', 'leur_famille', ',', 'belge', 'de', 'naissance', ',', 'soit', 'd', \"'\", 'un', 'aveugle', 'bruxellois', '.'], ['<<', 'l', \"'\", 'art', '.'], ['8', 'porte', ':', '<<', 'l', \"'\", 'administration', 'des', 'hospices', 'touchera', 'le', 'l', 'o', 'y', 'e', 'r', 'de', 'la', 'blanchisserie', '(', 'paye_par_anticipation', 'jusqu', \"'\", 'au', '1er', 'mars_prochain', ')', 'a', 'partir', 'de', 'cette', 'date', '.'], ['il', 'sera', 'tenu_compte', 'a', 'la', 'societe', 'du', 'produit', 'des', 'actions', 'et', 'capitaux', 'donnes', 'j', 'u', 's', 'qu', \"'\", 'a', 'leur', 'application', 'aux', 'constructions', 'susmentionnees', 'apres', 'l', \"'\", 'avance', 'c', 'o', 'n', 'venue', 'sur', 'la', 'propriete', 'de', 'la', 'blanchisserie', '.'], ['<<', '<<', 'l', 'a', 'section', 'propose', 'la', 'redaction_suivante', ':', '<<', 'a', 'r', 't', '.'], ['8', '.'], ['l', 'a', 'societe', 'de', 'philanthropie', 'j', 'o', 'u', 'i', 'r', 'a', 'des', 'revenus', ',', 'interets', 'et', 'd', 'i', 'v', 'i', 'dendes', 'des', 'actions', 'jusqu', \"'\", 'au', 'i', '>>', 'janvier', '1', '8', '4', '7', ',', 'et', 'l', \"'\", 'administration', 'des', 'hospices', 'touchera', 'les', 'loyers', 'de', 'la', 'blanchisserie', ',', 'a', 'partir', 'de', 'l', 'a', 'derniere_echeance', '.'], ['a', 'les', 'loyers', ',', 'interets', 'et', 'dividendes', 'seront', 'ajoutes', 'aux', 'capitaux', 'p', 'o', 'u', 'r', 'etre', 'appliques', 'a', 'la', 'construction', 'de', 'l', \"'\", 'hospice', ',', 'a', '^', 'moyennant', 'ce', 'changement', ',', 'i', 'l', 'y', 'aurait', 'l', 'i', 'e', 'u', ',', 'suivant', 'la', 'section', ',', 'd', \"'\", 'approuver', 'le', 'nouvel', 'acte', 'de', 'donation', 'dont', 'i', 'l', 's', \"'\", 'agit', '.'], ['<<', 'les', 'conclusions', 'que', 'la', 'section', 'des_travaux_publics', 'a', 'eu', 'l', \"'\", 'honneur', 'de', 'soumettre', 'precedemment', 'au', 'conseil_communal', 'tendaient', 'a', 'etablir', 'l', \"'\", 'hospice', 'des', 'aveugles', 'a', 'la', 'plaine', 'dite', 'du', 'remblai', '.'], ['e', 'le', 'conseil', 'a', 'ajourne', 'toute', 'decision', 'sur', 'ce', 'point', ',', 'et', 'a', 'resolu', 'que', 'la', 'question', 'serait', 'soumise', 'a', 'un', 'nouvel_examen', '.'], ['<<', 'dans', 'la', 'discussion', 'a', 'laquelle', 'ont', 'donne_lieu', 'les', 'conclusions', 'de', 'la', 'section', ',', 'un', 'membre', 'a', 'emis', 'l', \"'\", 'opinion', 'qu', \"'\", 'il', 'conviendrait', 'de', 'placer', 'ledit', 'hospice', 'au', 'boulevard', 'de', 'waterloo', ',', 'a', 'cote', 'de', 'la', 'caserne', 'de', 'gendarmerie', '.'], ['apres_avoir', 'attentivement', 'pese', 'les', 'considerations', 'qui', 'ont_ete_presentees', 'en', 'faveur', 'de', 'c', 'e', '-', '--', '4', '--', 'l', \"'\", 'emplacement', 'du', 'boulevard', 'de', 'waterloo', ',', 'la', 'section', 'des_travaux_publics', 'a', 'cru_devoir', 'maintenir', 'ses', 'conclusions', 'precedentes', 'en', 'faveur', 'de', 'remplacement', 'de', 'la', 'plaine', 'du', 'remblai', '.'], ['<<', 'dans', 'le', 'sein', 'du', 'conseil', ',', 'l', \"'\", 'honorable_membre', 'qui', 'a', 'donne', 'la', 'preference', 'aux', 'terrains', 'du', 'boulevard', 'de', 'waterloo', ',', 's', \"'\", 'est', 'appuye', 'sur', 'deux', 'motifs', ':', 'dans', 'son_opinion', ',', 'l', \"'\", 'hospice', 'devrait_etre', 'erige', 'sur', 'ces', 'terrains', ',', 'd', \"'\", 'abord', ',', 'parce', 'que', 'l', \"'\", 'on', 'pourrait', 'combiner', 'cette', 'construction', 'avec', 'les', 'travaux', 'a', 'faire', 'a', 'l', \"'\", 'hopital_saint', '-', 'pierre', ';', 'ensuite', ',', 'parce', 'que', 'differens', 'services', ',', 'tels', 'que', 'le', 'service_medical', ',', 'le', 'service', 'de', 'la', 'pharmacie', 'et', 'celui', 'des', 'vivres', 'pourraient_etre', 'communs', 'aux', 'deux', 'etablissemens', ',', 'et', 'par', 'la', 'reviendraient', 'moins', 'chers', '.'], ['<<', 'de', 'ces', 'deux', 'avantages', ',', 'le', ',', 'section', 'estime', 'que', 'le', 'premier', 'n', \"'\", 'est', 'pas', 'susceptible', 'de', 'realisation', ',', 'et', 'que', 'le', 'second', 'pourra_etre', 'obtenu', ',', 'quel', 'que', 'soit', 'celui', 'des', 'deux', 'terrains', 'ou', 'l', \"'\", 'on', 'erigera', 'l', \"'\", 'hospice', 'projete', '.'], ['<<', 'on', 'ne', 'pourrait', 'combiner', 'les', 'travaux', 'de', 'l', \"'\", 'hospice', 'avec', 'ceux', 'qu', \"'\", 'il', 'y', 'aurait', 'a', 'faire', 'a', 'l', \"'\", 'hopital_st', '.-', 'pierre', '.'], ['en', 'effet', ',', 'les', 'deux', 'etablissemens', 'seront', 'separes', 'l', \"'\", 'un', 'de', 'l', \"'\", 'autre', 'par', 'la', 'rue', 'nouvelle', ',', 'qui', 'forme', 'le', 'prolongement', ',', 'de', 'la', 'rue_aux_laines', ',', 'entre', 'la', 'caserne', 'de', 'la', 'gendarmerie', 'et', 'l', \"'\", 'hopital_st', '.-', 'pierre', '.'], ['pour', 'annexer', 'l', \"'\", 'hospice', 'des', 'aveugles', 'a', 'l', \"'\", 'hopital_st', '.-', 'pierre', ',', 'il_faudrait', 'ou', 'supprimer', 'la', 'rue', 'nouvelle', 'ou', 'lui', 'faire', 'former', 'un', 'coude', ',', 'ce', 'qui', 'rendrait', 'cette', 'voie', 'de', 'communication', 'tout', 'a', 'fait', 'moins', 'belle', 'et', 'moins', 'utile', ';', 'd', \"'\", 'ailleurs', ',', 'i', 'l', 'ne', 'faut', 'pas', 'perdre', 'de', 'vue', 'que', 'l', \"'\", 'hospice', 'des', 'aveugles', 'est', 'une', 'institution', 'speciale', 'et', 'distincte', 'des', 'etablissemens', 'de', 'l', \"'\", 'administration', 'des', 'hospices', ';', 'c', \"'\", 'est', 'la', 'societe', 'de', 'philanthrophie', 'qui', 'administrera', 'le', 'nouvel_hospice', ',', 'c', \"'\", 'est', 'elle', 'qui', 'sera', 'charge', 'de', 'l', \"'\", 'entretenir', ';', 'elle', 'y', 'aura', 'ses', 'bureaux', ';', 'les', 'locaux', 'de', 'l', \"'\", 'hospice', 'ne', 'pourront_servir', 'pour', 'les', 'besoins', 'de', 'l', \"'\", 'hopital', '.'], ['<<', '11', 'est', 'a', 'desirer', 'qu', \"'\", 'on', 'puisse', 'utiliser', ',', 'pour', 'l', \"'\", 'hospice', 'des', 'aveugles', ',', 'certains', 'services', 'de', 'l', \"'\", 'hopital_st', '.-', 'pierre', ';', 'mais', 'l', \"'\", 'etablissement', 'de', 'l', \"'\", 'hospice', 'a', 'la', 'plaine', 'du', 'remblai', 'ne', 'portera', 'pas', 'obstacle', 'a', 'cette', 'combinaison', ',', 'car', 'la', 'plaine', 'est', 'a', 'peu', 'de', 'distance', 'de', 'l', \"'\", 'hopital', ',', 'et', 'en', 'sera', 'plus_rapprochee', 'encore', ',', 'lorsque', 'la', 'rue', 'du', 'remblai', 'debouchera', 'directement', 'sur', 'la', 'rue_haute', '.'], ['la', 'section', 'prefere', 'l', \"'\", 'emplacement', 'de', 'la', 'plaine', 'de', 'remblai', 'a', 'celui', 'du', 'boulevard', 'de', 'waterloo', 'pour', 'trois', 'motifs', ':', '<<', '1', 'deg', 'parce', 'que', 'les', 'terrains', 'a', 'ceder', 'par', 'la', 'ville', 'ont', 'un', 'tiers', 'moins', 'de', 'valeur', 'a', 'la', 'plaine', 'du', 'remblai', 'qu', \"'\", 'au', 'boulevard', 'de', 'waterloo', ',', 'et', 'qu', \"'\", 'il_convient', 'de', 'restreindre_autant', 'que', 'possible', 'l', \"'\", 'etendue', 'du', 'sacrifice', 'qui', 'nous', 'est', 'demande', ';', 'a', '2', 'deg', 'parce', 'que', 'les', 'terrains', 'du', 'boulevard', 'de', 'waterloo', ',', 'a', 'raison', 'de', 'leur', 'situation', 'et', 'de', 'la', 'proximite', 'des', 'constructions_erigees', 'sur', 'ce', 'point', 'depuis', 'un', 'certain_nombre', 'd', \"'\", 'annees', ',', 'pourraient_etre', 'mis', 'en', 'vente', 'immediatement', ',', 'tandis', 'que', 'ceux', 'de', 'la', 'plaine', 'du', 'remblai', 'ne', 'pourraient', 'l', \"'\", 'etre', 'convenablement', 'que', 'dans', 'un', 'temps', 'plus', 'eloigne', '.'], ['<<', '3', 'deg', 'parce', 'que', 'la', 'construction', 'de', 'l', \"'\", 'hospice', 'a', 'la', 'plaine', 'du', 'remblai', 'embellira', 'une', 'localite', 'ou', ',', 'sans', 'cela', ',', 'on', 'ne', 'verrait', 's', \"'\", 'elever', 'd', \"'\", 'ici', 'a', 'longtemps', 'aucune', 'construction', 'quelconque', ';', '<<', 'quant', 'aux', 'fondations', 'de', 'l', \"'\", 'hospice', ',', 'elle', 'couteront', 'autant', 'au', 'boulevard', 'du', 'midi', 'qu', \"'\", 'a', 'celui', 'de', 'waterloo', ',', 'de', 'l', \"'\", 'avis', 'de', 'l', \"'\", 'architecte', ',', 'auteur', 'du', 'plan', '.'], ['par', 'ces', 'motifs', ',', 'la', 'section', 'a', 'l', \"'\", 'honneur', 'de', 'proposer', 'au', 'conseil', 'de', 'conceder', 'dans', 'la', 'plaine', 'du', 'remblai', ',', 'un', 'terrain', 'd', \"'\", 'une', 'superficie', 'd', \"'\", 'environ', '60', '.', '000', 'pieds_carres', 'pour', 'l', \"'\", 'erection', 'de', 'l', \"'\", 'hospice', 'des', 'aveugles_indigens', '.'], ['m', '.'], ['bourgeois', '.'], ['dans', 'aucun', 'des', 'rapports', 'qui', 'ont_ete', 'faits', 'au', 'conseil', 'sur', 'cette_affaire', ',', 'je', 'n', \"'\", 'ai', 'vu', 'ni', 'l', \"'\", 'estimation', 'du', 'cout', 'definitif', ',', 'ni', 'l', \"'\", 'assurance', 'que', 'la', 'donation_faite', 'a', 'la', 'sociele', 'philanlropique', 'pourra', 'suffire', 'aux', 'depenses', 'de', 'construction', 'de', 'l', \"'\", 'hospice', 'projete', '.'], ['car', 'je', 'ne', 'me', 'fie', 'guere', 'aux', 'evaluations', 'des', '--', '5', '--', 'architectes', ',', 'auxquelles', 'i', 'l', 'faut', 'toujours', 'ajouter', 'sinon', 'la', 'moitie', ',', 'au', 'moins', 'le', 'tiers', 'je_voudrais', 'avoir', 'a', 'ce', 'sujet', 'quelques', 'donnees', '.'], ['m', 'le', 'president', '.']]\n"
     ]
    }
   ],
   "source": [
    "print(corpus[:100])"
   ]
  },
  {
   "cell_type": "markdown",
   "metadata": {},
   "source": [
    "### Entrainement de Word2Vec"
   ]
  },
  {
   "cell_type": "code",
   "execution_count": 46,
   "metadata": {},
   "outputs": [
    {
     "name": "stdout",
     "output_type": "stream",
     "text": [
      "CPU times: user 15min 31s, sys: 1min 42s, total: 17min 14s\n",
      "Wall time: 9min 25s\n"
     ]
    }
   ],
   "source": [
    "%%time\n",
    "model = Word2Vec(\n",
    "    corpus, # On passe le corpus de ngrams que nous venons de créer\n",
    "    vector_size=32, # Le nombre de dimensions dans lesquelles le contexte des mots devra être réduit, aka. vector_size\n",
    "    window=6, # La taille du \"contexte\", ici 6 mots avant et après le mot observé\n",
    "    min_count=10, # On ignore les mots qui n'apparaissent pas au moins 10 fois dans le corpus\n",
    "    workers=4, # Permet de paralléliser l'entraînement du modèle en 4 threads\n",
    "    epochs=5 # Nombre d'itérations du réseau de neurones sur le jeu de données pour ajuster les paramètres avec la descende de gradient, aka. epochs.\n",
    ")"
   ]
  },
  {
   "cell_type": "markdown",
   "metadata": {},
   "source": [
    "### Sauvegarde du modèle généré par Word2Vec"
   ]
  },
  {
   "cell_type": "code",
   "execution_count": 47,
   "metadata": {},
   "outputs": [],
   "source": [
    "outfile = f\"../data/bulletins.model\"\n",
    "model.save(outfile)"
   ]
  },
  {
   "cell_type": "markdown",
   "metadata": {},
   "source": [
    "### Chargement du modèle"
   ]
  },
  {
   "cell_type": "code",
   "execution_count": 48,
   "metadata": {},
   "outputs": [],
   "source": [
    "model = Word2Vec.load(\"../data/bulletins.model\")"
   ]
  },
  {
   "cell_type": "markdown",
   "metadata": {},
   "source": [
    "## Exploration du modèle"
   ]
  },
  {
   "cell_type": "markdown",
   "metadata": {},
   "source": [
    "### Similarity(3)"
   ]
  },
  {
   "cell_type": "code",
   "execution_count": 49,
   "metadata": {},
   "outputs": [
    {
     "data": {
      "text/plain": [
       "0.707169"
      ]
     },
     "execution_count": 49,
     "metadata": {},
     "output_type": "execute_result"
    }
   ],
   "source": [
    "model.wv.similarity(\"etablissement\", \"hopital\")"
   ]
  },
  {
   "cell_type": "code",
   "execution_count": 50,
   "metadata": {},
   "outputs": [
    {
     "data": {
      "text/plain": [
       "0.700963"
      ]
     },
     "execution_count": 50,
     "metadata": {},
     "output_type": "execute_result"
    }
   ],
   "source": [
    "model.wv.similarity(\"rue\", \"boulevard\")"
   ]
  },
  {
   "cell_type": "code",
   "execution_count": 51,
   "metadata": {},
   "outputs": [
    {
     "data": {
      "text/plain": [
       "0.4348825"
      ]
     },
     "execution_count": 51,
     "metadata": {},
     "output_type": "execute_result"
    }
   ],
   "source": [
    "model.wv.similarity(\"depenses\", \"francs\")"
   ]
  },
  {
   "cell_type": "markdown",
   "metadata": {},
   "source": [
    "### Most Similar (3)"
   ]
  },
  {
   "cell_type": "code",
   "execution_count": 52,
   "metadata": {},
   "outputs": [
    {
     "data": {
      "text/plain": [
       "[('bourmestre', 0.9241952896118164),\n",
       " ('conseiller_vandergeten', 0.8540228605270386),\n",
       " ('sieur_goetvinck', 0.853388786315918),\n",
       " ('bougmestre', 0.8516767621040344),\n",
       " ('pechevin_lefevre', 0.8469296097755432),\n",
       " ('conseiller_brandenburg', 0.8443721532821655),\n",
       " ('op_uitnodiging', 0.8432469964027405),\n",
       " ('jules_van_volxem', 0.8428296446800232),\n",
       " ('aangifte_op_vermelde_datum', 0.8423205018043518),\n",
       " ('conseiller_vanderlinden', 0.8406500220298767)]"
      ]
     },
     "execution_count": 52,
     "metadata": {},
     "output_type": "execute_result"
    }
   ],
   "source": [
    "model.wv.most_similar(\"bourgemestre\", topn=10)"
   ]
  },
  {
   "cell_type": "code",
   "execution_count": 53,
   "metadata": {},
   "outputs": [
    {
     "data": {
      "text/plain": [
       "[('recettes', 0.9633265137672424),\n",
       " ('previsions', 0.9221402406692505),\n",
       " ('depenses_facultatives', 0.9046937227249146),\n",
       " ('credits', 0.8850541710853577),\n",
       " ('recettes_extraordinaires', 0.8834420442581177),\n",
       " ('recettes_ordinaires', 0.8830805420875549),\n",
       " ('depenses_extraordinaires', 0.8819311261177063),\n",
       " ('receltes', 0.8784440159797668),\n",
       " ('depenses_ordinaires', 0.872888445854187),\n",
       " ('exercices_anterieurs', 0.8555951118469238)]"
      ]
     },
     "execution_count": 53,
     "metadata": {},
     "output_type": "execute_result"
    }
   ],
   "source": [
    "model.wv.most_similar(\"depenses\", topn=10)"
   ]
  },
  {
   "cell_type": "code",
   "execution_count": 54,
   "metadata": {},
   "outputs": [
    {
     "data": {
      "text/plain": [
       "[('travaux_urgents', 0.8560998439788818),\n",
       " ('grands_travaux', 0.8366211652755737),\n",
       " ('iravaux', 0.821448564529419),\n",
       " ('travaux_complementaires', 0.8169556260108948),\n",
       " ('installations_electriques', 0.8151019811630249),\n",
       " ('installations', 0.8117236495018005),\n",
       " ('toitures', 0.8107927441596985),\n",
       " ('travaux_interieurs', 0.809475302696228),\n",
       " ('locaux', 0.8057436943054199),\n",
       " ('revetements_speciaux', 0.803111732006073)]"
      ]
     },
     "execution_count": 54,
     "metadata": {},
     "output_type": "execute_result"
    }
   ],
   "source": [
    "model.wv.most_similar(\"travaux\", topn=10)"
   ]
  },
  {
   "cell_type": "code",
   "execution_count": 55,
   "metadata": {},
   "outputs": [
    {
     "name": "stdout",
     "output_type": "stream",
     "text": [
      "[('controle', 0.7353988885879517), ('personnel_ouvrier', 0.7331334948539734), ('calcul', 0.7293558716773987), ('rappel', 0.6989557147026062), ('chomage', 0.6866339445114136), ('contribuable', 0.6707057952880859), ('cumul', 0.6563355326652527), ('surcroit', 0.6536252498626709), ('recrutement', 0.6510536074638367), ('service_social', 0.6506235599517822)]\n"
     ]
    }
   ],
   "source": [
    "print(model.wv.most_similar(positive=['travail', 'communal'], negative=['rue']))"
   ]
  },
  {
   "cell_type": "code",
   "execution_count": 56,
   "metadata": {},
   "outputs": [
    {
     "name": "stdout",
     "output_type": "stream",
     "text": [
      "[('elements_complets', 0.5970019102096558), ('suit_:_primes', 0.5621328949928284), ('justifie_cette', 0.5341380834579468), ('chaque_annee', 0.5270583629608154), ('conges', 0.5134211182594299), ('sera_doublee', 0.49888867139816284), ('chaque_trimestre', 0.4973134398460388), ('chiffres_suivants', 0.4936138689517975), ('sommes_percues', 0.4907114505767822), ('ayant_pris', 0.48980629444122314)]\n"
     ]
    }
   ],
   "source": [
    "print(model.wv.most_similar(positive=['travaux', 'communal'], negative=['rue', 'voirie']))"
   ]
  },
  {
   "cell_type": "code",
   "execution_count": 57,
   "metadata": {},
   "outputs": [
    {
     "name": "stdout",
     "output_type": "stream",
     "text": [
      "[('restants', 0.6669670939445496), ('excedants', 0.6582974195480347), ('der_stadseigendommen', 0.6490575671195984), ('annuels', 0.6381696462631226), ('sont_evalues', 0.6333494186401367), ('bonis', 0.6281870007514954), ('travaux_imprevus', 0.6273893713951111), ('disponibles', 0.6209419965744019), ('totales', 0.6187775731086731), ('concessions_temporaires', 0.614159882068634)]\n"
     ]
    }
   ],
   "source": [
    "print(model.wv.most_similar(positive=['payement'], negative=['echevin','bourgemestre','citoyen']))"
   ]
  }
 ],
 "metadata": {
  "interpreter": {
   "hash": "aee8b7b246df8f9039afb4144a1f6fd8d2ca17a180786b69acc140d282b71a49"
  },
  "kernelspec": {
   "display_name": "Python 3.9.7 64-bit",
   "name": "python3"
  },
  "language_info": {
   "codemirror_mode": {
    "name": "ipython",
    "version": 3
   },
   "file_extension": ".py",
   "mimetype": "text/x-python",
   "name": "python",
   "nbconvert_exporter": "python",
   "pygments_lexer": "ipython3",
   "version": "3.9.7"
  }
 },
 "nbformat": 4,
 "nbformat_minor": 4
}
