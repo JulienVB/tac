{
 "cells": [
  {
   "cell_type": "markdown",
   "metadata": {},
   "source": [
    "# TP3 - VANBELLE Julien"
   ]
  },
  {
   "cell_type": "markdown",
   "metadata": {},
   "source": [
    "# Clustering de documents"
   ]
  },
  {
   "cell_type": "markdown",
   "metadata": {},
   "source": [
    "## Imports"
   ]
  },
  {
   "cell_type": "code",
   "execution_count": 1,
   "metadata": {},
   "outputs": [],
   "source": [
    "import collections\n",
    "import os\n",
    "import string\n",
    "import sys\n",
    "\n",
    "import pandas as pd\n",
    "from nltk import word_tokenize\n",
    "from nltk.corpus import stopwords\n",
    "from pprint import pprint\n",
    "from sklearn.cluster import KMeans\n",
    "from sklearn.feature_extraction.text import TfidfVectorizer\n",
    "from sklearn.decomposition import PCA\n",
    "import numpy as np\n",
    "import matplotlib.pyplot as plt\n",
    "from scipy.spatial.distance import cosine"
   ]
  },
  {
   "cell_type": "code",
   "execution_count": 2,
   "metadata": {},
   "outputs": [
    {
     "name": "stderr",
     "output_type": "stream",
     "text": [
      "[nltk_data] Downloading package punkt to\n",
      "[nltk_data]     /Users/julienvanbelle/nltk_data...\n",
      "[nltk_data]   Package punkt is already up-to-date!\n"
     ]
    },
    {
     "data": {
      "text/plain": [
       "True"
      ]
     },
     "execution_count": 2,
     "metadata": {},
     "output_type": "execute_result"
    }
   ],
   "source": [
    "import nltk\n",
    "\n",
    "nltk.download('punkt')"
   ]
  },
  {
   "cell_type": "code",
   "execution_count": 3,
   "metadata": {},
   "outputs": [],
   "source": [
    "data_path = \"../data/txt/\""
   ]
  },
  {
   "cell_type": "markdown",
   "metadata": {},
   "source": [
    "## Choisir une décennie"
   ]
  },
  {
   "cell_type": "code",
   "execution_count": 4,
   "metadata": {},
   "outputs": [],
   "source": [
    "DECADE = '1960'"
   ]
  },
  {
   "cell_type": "markdown",
   "metadata": {},
   "source": [
    "## Charger tous les  fichiers de la décennie et en créer une liste de textes"
   ]
  },
  {
   "cell_type": "code",
   "execution_count": 5,
   "metadata": {},
   "outputs": [],
   "source": [
    "files = [f for f in sorted(os.listdir(data_path)) if f\"_{DECADE[:-1]}\" in f]"
   ]
  },
  {
   "cell_type": "code",
   "execution_count": 6,
   "metadata": {},
   "outputs": [
    {
     "data": {
      "text/plain": [
       "['Bxl_1960_Tome_II1_Part_1.txt',\n",
       " 'Bxl_1960_Tome_II1_Part_2.txt',\n",
       " 'Bxl_1960_Tome_II1_Part_3.txt',\n",
       " 'Bxl_1960_Tome_II1_Part_4.txt',\n",
       " 'Bxl_1960_Tome_II1_Part_5.txt']"
      ]
     },
     "execution_count": 6,
     "metadata": {},
     "output_type": "execute_result"
    }
   ],
   "source": [
    "# Exemple de fichiers\n",
    "files[:5]"
   ]
  },
  {
   "cell_type": "code",
   "execution_count": 7,
   "metadata": {},
   "outputs": [],
   "source": [
    "texts = [open(data_path + f).read() for f in files]"
   ]
  },
  {
   "cell_type": "code",
   "execution_count": 8,
   "metadata": {},
   "outputs": [
    {
     "data": {
      "text/plain": [
       "'PUBLICATION\\n\\nPERIODIQUE\\n\\nVILLE DE BRUXELLES\\n\\nAnnée 1960\\n\\nBULLETIN\\nCOMMUNAL\\nTOME II \"\\n_u\\n\\nImpr. H . 6 M . S C H A U M A N S\\nSociété\\n\\nAnonyme\\n\\nParvis Saint-Gilles, 41\\nBruxelles\\n1960\\n\\n\\x0c\\x0cN\" 14\\n\\nCOMPTE\\n\\nR E N D U D E L A S E A N C E D U 1\"\\' A O U T\\n\\nVILLE\\n\\nDE\\n\\n1960\\n\\nBRUXELLES\\n\\nBULLETIN\\n\\nCOMMUNAL\\n\\n(Publication\\n\\npériodique)\\n\\nA n n é e 1960\\n\\nCONSEIL\\n\\nS é a n c e du\\n\\nPRESIDENCE\\n\\nCOMMUNAL\\n\\n1\\n\\ner\\n\\naoût\\n\\nDE M'"
      ]
     },
     "execution_count": 8,
     "metadata": {},
     "output_type": "execute_result"
    }
   ],
   "source": [
    "# Exemple de textes\n",
    "texts[0][:400]"
   ]
  },
  {
   "cell_type": "markdown",
   "metadata": {},
   "source": [
    "## Vectoriser les documents à l'aide de TF-IDF"
   ]
  },
  {
   "cell_type": "code",
   "execution_count": 9,
   "metadata": {},
   "outputs": [],
   "source": [
    "# Création d'une fonction de pré-traitement\n",
    "def preprocessing(text, stem=True):\n",
    "    \"\"\" Tokenize text and remove punctuation \"\"\"\n",
    "    text = text.translate(string.punctuation)\n",
    "    tokens = word_tokenize(text)\n",
    "    return tokens"
   ]
  },
  {
   "cell_type": "markdown",
   "metadata": {},
   "source": [
    "### Instancier le modèle TF-IDF avec ses arguments"
   ]
  },
  {
   "cell_type": "code",
   "execution_count": 10,
   "metadata": {},
   "outputs": [],
   "source": [
    "vectorizer = TfidfVectorizer(\n",
    "    tokenizer=preprocessing,\n",
    "    stop_words=stopwords.words('french'),\n",
    "    max_df=0.5,\n",
    "    min_df=0.1,\n",
    "    lowercase=True)"
   ]
  },
  {
   "cell_type": "markdown",
   "metadata": {},
   "source": [
    "### Construire la matrice de vecteurs à l'aide de la fonction `fit_transform`"
   ]
  },
  {
   "cell_type": "code",
   "execution_count": 11,
   "metadata": {},
   "outputs": [
    {
     "name": "stdout",
     "output_type": "stream",
     "text": [
      "CPU times: user 1min 37s, sys: 1.14 s, total: 1min 38s\n",
      "Wall time: 1min 44s\n"
     ]
    }
   ],
   "source": [
    "%time tfidf_vectors = vectorizer.fit_transform(texts)"
   ]
  },
  {
   "cell_type": "code",
   "execution_count": 12,
   "metadata": {},
   "outputs": [
    {
     "data": {
      "text/plain": [
       "<420x6466 sparse matrix of type '<class 'numpy.float64'>'\n",
       "\twith 574279 stored elements in Compressed Sparse Row format>"
      ]
     },
     "execution_count": 12,
     "metadata": {},
     "output_type": "execute_result"
    }
   ],
   "source": [
    "# Détail de la matrice\n",
    "tfidf_vectors"
   ]
  },
  {
   "cell_type": "markdown",
   "metadata": {},
   "source": [
    "### Imprimer le vecteur tf-IDF du premier document"
   ]
  },
  {
   "cell_type": "code",
   "execution_count": 13,
   "metadata": {},
   "outputs": [
    {
     "data": {
      "text/plain": [
       "+considérant    0.300647\n",
       "fer             0.228639\n",
       "curage          0.207466\n",
       "dma             0.153796\n",
       "art             0.147675\n",
       "                  ...   \n",
       "engagé          0.000000\n",
       "engager         0.000000\n",
       "engagements     0.000000\n",
       "engage          0.000000\n",
       "™               0.000000\n",
       "Length: 6466, dtype: float64"
      ]
     },
     "execution_count": 13,
     "metadata": {},
     "output_type": "execute_result"
    }
   ],
   "source": [
    "pd.Series(\n",
    "    tfidf_vectors[0].toarray()[0],\n",
    "    index=vectorizer.get_feature_names_out()\n",
    "    ).sort_values(ascending=False)"
   ]
  },
  {
   "cell_type": "markdown",
   "metadata": {},
   "source": [
    "## Appliquer un algorithme de clustering sur les vecteurs TF-IDF des documents"
   ]
  },
  {
   "cell_type": "markdown",
   "metadata": {},
   "source": [
    "Pour en savoir plus sur le KMeans clustering :\n",
    "- https://medium.com/dataseries/k-means-clustering-explained-visually-in-5-minutes-b900cc69d175"
   ]
  },
  {
   "cell_type": "markdown",
   "metadata": {},
   "source": [
    "### Définir un nombre de clusters"
   ]
  },
  {
   "cell_type": "code",
   "execution_count": 50,
   "metadata": {},
   "outputs": [],
   "source": [
    "N_CLUSTERS = 3"
   ]
  },
  {
   "cell_type": "markdown",
   "metadata": {},
   "source": [
    "### Instancier le modèle K-Means et ses arguments"
   ]
  },
  {
   "cell_type": "code",
   "execution_count": 51,
   "metadata": {},
   "outputs": [],
   "source": [
    "km_model = KMeans(n_clusters=N_CLUSTERS)"
   ]
  },
  {
   "cell_type": "markdown",
   "metadata": {},
   "source": [
    "### Appliquer le clustering à l'aide de la fonction `fit_predict`"
   ]
  },
  {
   "cell_type": "code",
   "execution_count": 52,
   "metadata": {},
   "outputs": [],
   "source": [
    "clusters = km_model.fit_predict(tfidf_vectors)"
   ]
  },
  {
   "cell_type": "code",
   "execution_count": 53,
   "metadata": {},
   "outputs": [],
   "source": [
    "clustering = collections.defaultdict(list)\n",
    "\n",
    "for idx, label in enumerate(clusters):\n",
    "    clustering[label].append(files[idx])"
   ]
  },
  {
   "cell_type": "code",
   "execution_count": 54,
   "metadata": {},
   "outputs": [
    {
     "name": "stdout",
     "output_type": "stream",
     "text": [
      "{0: ['Bxl_1960_Tome_II2_Part_7.txt',\n",
      "     'Bxl_1960_Tome_II2_Part_8.txt',\n",
      "     'Bxl_1960_Tome_II2_Part_9.txt',\n",
      "     'Bxl_1960_Tome_I_Part_12.txt',\n",
      "     'Bxl_1960_Tome_I_Part_13.txt',\n",
      "     'Bxl_1961_Tome_II2_Part_7.txt',\n",
      "     'Bxl_1961_Tome_II2_Part_8.txt',\n",
      "     'Bxl_1961_Tome_I_Part_11.txt',\n",
      "     'Bxl_1961_Tome_I_Part_12.txt',\n",
      "     'Bxl_1962_Tome_II2_Part_8.txt',\n",
      "     'Bxl_1962_Tome_II2_Part_9.txt',\n",
      "     'Bxl_1962_Tome_I_Part_12.txt',\n",
      "     'Bxl_1962_Tome_I_Part_13.txt',\n",
      "     'Bxl_1963_Tome_II2_Part_11.txt',\n",
      "     'Bxl_1963_Tome_II2_Part_12.txt',\n",
      "     'Bxl_1963_Tome_I_Part_12.txt',\n",
      "     'Bxl_1963_Tome_I_Part_13.txt',\n",
      "     'Bxl_1964_Tome_II2_Part_10.txt',\n",
      "     'Bxl_1964_Tome_II2_Part_11.txt',\n",
      "     'Bxl_1964_Tome_I_Part_14.txt',\n",
      "     'Bxl_1965_Tome_II2_Part_13.txt',\n",
      "     'Bxl_1965_Tome_II2_Part_14.txt',\n",
      "     'Bxl_1965_Tome_I_Part_13.txt',\n",
      "     'Bxl_1965_Tome_I_Part_14.txt',\n",
      "     'Bxl_1966_Tome_I2_Part_10.txt',\n",
      "     'Bxl_1966_Tome_I2_Part_11.txt',\n",
      "     'Bxl_1966_Tome_II2_Part_13.txt',\n",
      "     'Bxl_1966_Tome_II2_Part_14.txt',\n",
      "     'Bxl_1967_Tome_I2_Part_10.txt',\n",
      "     'Bxl_1968_Tome_I2_Part_8.txt',\n",
      "     'Bxl_1968_Tome_I2_Part_9.txt',\n",
      "     'Bxl_1968_Tome_II1_Part_8.txt',\n",
      "     'Bxl_1968_Tome_II1_Part_9.txt',\n",
      "     'Bxl_1969_Tome_I2_Part_10.txt',\n",
      "     'Bxl_1969_Tome_I2_Part_9.txt',\n",
      "     'Bxl_1969_Tome_II2_Part_12.txt',\n",
      "     'Bxl_1969_Tome_II2_Part_13.txt'],\n",
      " 1: ['Bxl_1963_Tome_II1_Part_6.txt',\n",
      "     'Bxl_1963_Tome_II1_Part_8.txt',\n",
      "     'Bxl_1963_Tome_II1_Part_9.txt',\n",
      "     'Bxl_1963_Tome_II2_Part_2.txt',\n",
      "     'Bxl_1963_Tome_II2_Part_3.txt',\n",
      "     'Bxl_1963_Tome_II2_Part_4.txt',\n",
      "     'Bxl_1963_Tome_II2_Part_5.txt',\n",
      "     'Bxl_1963_Tome_II2_Part_8.txt',\n",
      "     'Bxl_1964_Tome_II1_Part_4.txt',\n",
      "     'Bxl_1964_Tome_II1_Part_8.txt',\n",
      "     'Bxl_1964_Tome_II1_Part_9.txt',\n",
      "     'Bxl_1964_Tome_II2_Part_1.txt',\n",
      "     'Bxl_1964_Tome_II2_Part_2.txt',\n",
      "     'Bxl_1964_Tome_II2_Part_3.txt',\n",
      "     'Bxl_1964_Tome_II2_Part_7.txt',\n",
      "     'Bxl_1964_Tome_II2_Part_9.txt',\n",
      "     'Bxl_1964_Tome_I_Part_11.txt',\n",
      "     'Bxl_1964_Tome_I_Part_12.txt',\n",
      "     'Bxl_1964_Tome_I_Part_9.txt',\n",
      "     'Bxl_1965_Tome_II1_Part_1.txt',\n",
      "     'Bxl_1965_Tome_II1_Part_2.txt',\n",
      "     'Bxl_1965_Tome_II1_Part_3.txt',\n",
      "     'Bxl_1965_Tome_II1_Part_5.txt',\n",
      "     'Bxl_1965_Tome_II1_Part_7.txt',\n",
      "     'Bxl_1965_Tome_II1_Part_9.txt',\n",
      "     'Bxl_1965_Tome_II2_Part_1.txt',\n",
      "     'Bxl_1965_Tome_II2_Part_10.txt',\n",
      "     'Bxl_1965_Tome_II2_Part_11.txt',\n",
      "     'Bxl_1965_Tome_II2_Part_12.txt',\n",
      "     'Bxl_1965_Tome_II2_Part_2.txt',\n",
      "     'Bxl_1965_Tome_II2_Part_3.txt',\n",
      "     'Bxl_1965_Tome_II2_Part_5.txt',\n",
      "     'Bxl_1965_Tome_II2_Part_6.txt',\n",
      "     'Bxl_1965_Tome_II2_Part_7.txt',\n",
      "     'Bxl_1965_Tome_II2_Part_8.txt',\n",
      "     'Bxl_1965_Tome_II2_Part_9.txt',\n",
      "     'Bxl_1965_Tome_I_Part_1.txt',\n",
      "     'Bxl_1965_Tome_I_Part_10.txt',\n",
      "     'Bxl_1965_Tome_I_Part_11.txt',\n",
      "     'Bxl_1965_Tome_I_Part_12.txt',\n",
      "     'Bxl_1965_Tome_I_Part_3.txt',\n",
      "     'Bxl_1965_Tome_I_Part_4.txt',\n",
      "     'Bxl_1965_Tome_I_Part_6.txt',\n",
      "     'Bxl_1965_Tome_I_Part_7.txt',\n",
      "     'Bxl_1965_Tome_I_Part_8.txt',\n",
      "     'Bxl_1965_Tome_I_Part_9.txt',\n",
      "     'Bxl_1965_Tome_RptAn_Part_4.txt',\n",
      "     'Bxl_1965_Tome_RptAn_Part_5.txt',\n",
      "     'Bxl_1965_Tome_RptAn_Part_6.txt',\n",
      "     'Bxl_1965_Tome_RptAn_Part_7.txt',\n",
      "     'Bxl_1966_Tome_I1_Part_1.txt',\n",
      "     'Bxl_1966_Tome_I1_Part_10.txt',\n",
      "     'Bxl_1966_Tome_I1_Part_2.txt',\n",
      "     'Bxl_1966_Tome_I1_Part_3.txt',\n",
      "     'Bxl_1966_Tome_I1_Part_4.txt',\n",
      "     'Bxl_1966_Tome_I1_Part_5.txt',\n",
      "     'Bxl_1966_Tome_I1_Part_6.txt',\n",
      "     'Bxl_1966_Tome_I1_Part_7.txt',\n",
      "     'Bxl_1966_Tome_I1_Part_8.txt',\n",
      "     'Bxl_1966_Tome_I1_Part_9.txt',\n",
      "     'Bxl_1966_Tome_I2_Part_1.txt',\n",
      "     'Bxl_1966_Tome_I2_Part_2.txt',\n",
      "     'Bxl_1966_Tome_I2_Part_3.txt',\n",
      "     'Bxl_1966_Tome_I2_Part_4.txt',\n",
      "     'Bxl_1966_Tome_I2_Part_5.txt',\n",
      "     'Bxl_1966_Tome_I2_Part_6.txt',\n",
      "     'Bxl_1966_Tome_I2_Part_7.txt',\n",
      "     'Bxl_1966_Tome_I2_Part_8.txt',\n",
      "     'Bxl_1966_Tome_I2_Part_9.txt',\n",
      "     'Bxl_1966_Tome_II1_Part_1.txt',\n",
      "     'Bxl_1966_Tome_II1_Part_10.txt',\n",
      "     'Bxl_1966_Tome_II1_Part_11.txt',\n",
      "     'Bxl_1966_Tome_II1_Part_2.txt',\n",
      "     'Bxl_1966_Tome_II1_Part_3.txt',\n",
      "     'Bxl_1966_Tome_II1_Part_4.txt',\n",
      "     'Bxl_1966_Tome_II1_Part_5.txt',\n",
      "     'Bxl_1966_Tome_II1_Part_6.txt',\n",
      "     'Bxl_1966_Tome_II1_Part_7.txt',\n",
      "     'Bxl_1966_Tome_II1_Part_8.txt',\n",
      "     'Bxl_1966_Tome_II1_Part_9.txt',\n",
      "     'Bxl_1966_Tome_II2_Part_1.txt',\n",
      "     'Bxl_1966_Tome_II2_Part_11.txt',\n",
      "     'Bxl_1966_Tome_II2_Part_12.txt',\n",
      "     'Bxl_1966_Tome_II2_Part_2.txt',\n",
      "     'Bxl_1966_Tome_II2_Part_3.txt',\n",
      "     'Bxl_1966_Tome_II2_Part_4.txt',\n",
      "     'Bxl_1966_Tome_II2_Part_5.txt',\n",
      "     'Bxl_1966_Tome_II2_Part_6.txt',\n",
      "     'Bxl_1966_Tome_II2_Part_7.txt',\n",
      "     'Bxl_1966_Tome_II2_Part_8.txt',\n",
      "     'Bxl_1966_Tome_II2_Part_9.txt',\n",
      "     'Bxl_1966_Tome_RptAn_Part_3.txt',\n",
      "     'Bxl_1966_Tome_RptAn_Part_4.txt',\n",
      "     'Bxl_1966_Tome_RptAn_Part_5.txt',\n",
      "     'Bxl_1966_Tome_RptAn_Part_6.txt',\n",
      "     'Bxl_1967_Tome_I1_Part_1.txt',\n",
      "     'Bxl_1967_Tome_I1_Part_10.txt',\n",
      "     'Bxl_1967_Tome_I1_Part_2.txt',\n",
      "     'Bxl_1967_Tome_I1_Part_3.txt',\n",
      "     'Bxl_1967_Tome_I1_Part_4.txt',\n",
      "     'Bxl_1967_Tome_I1_Part_5.txt',\n",
      "     'Bxl_1967_Tome_I1_Part_6.txt',\n",
      "     'Bxl_1967_Tome_I1_Part_7.txt',\n",
      "     'Bxl_1967_Tome_I1_Part_8.txt',\n",
      "     'Bxl_1967_Tome_I1_Part_9.txt',\n",
      "     'Bxl_1967_Tome_I2_Part_1.txt',\n",
      "     'Bxl_1967_Tome_I2_Part_2.txt',\n",
      "     'Bxl_1967_Tome_I2_Part_3.txt',\n",
      "     'Bxl_1967_Tome_I2_Part_4.txt',\n",
      "     'Bxl_1967_Tome_I2_Part_5.txt',\n",
      "     'Bxl_1967_Tome_I2_Part_6.txt',\n",
      "     'Bxl_1967_Tome_I2_Part_7.txt',\n",
      "     'Bxl_1967_Tome_I2_Part_8.txt',\n",
      "     'Bxl_1967_Tome_I2_Part_9.txt',\n",
      "     'Bxl_1967_Tome_II1_Part_1.txt',\n",
      "     'Bxl_1967_Tome_II1_Part_10.txt',\n",
      "     'Bxl_1967_Tome_II1_Part_2.txt',\n",
      "     'Bxl_1967_Tome_II1_Part_3.txt',\n",
      "     'Bxl_1967_Tome_II1_Part_5.txt',\n",
      "     'Bxl_1967_Tome_II1_Part_6.txt',\n",
      "     'Bxl_1967_Tome_II1_Part_7.txt',\n",
      "     'Bxl_1967_Tome_II1_Part_8.txt',\n",
      "     'Bxl_1967_Tome_II1_Part_9.txt',\n",
      "     'Bxl_1967_Tome_II2_Part_1.txt',\n",
      "     'Bxl_1967_Tome_II2_Part_10.txt',\n",
      "     'Bxl_1967_Tome_II2_Part_11.txt',\n",
      "     'Bxl_1967_Tome_II2_Part_2.txt',\n",
      "     'Bxl_1967_Tome_II2_Part_3.txt',\n",
      "     'Bxl_1967_Tome_II2_Part_4.txt',\n",
      "     'Bxl_1967_Tome_II2_Part_5.txt',\n",
      "     'Bxl_1967_Tome_II2_Part_6.txt',\n",
      "     'Bxl_1967_Tome_II2_Part_7.txt',\n",
      "     'Bxl_1967_Tome_II2_Part_8.txt',\n",
      "     'Bxl_1967_Tome_II2_Part_9.txt',\n",
      "     'Bxl_1968_Tome_I1_Part_1.txt',\n",
      "     'Bxl_1968_Tome_I1_Part_2.txt',\n",
      "     'Bxl_1968_Tome_I1_Part_3.txt',\n",
      "     'Bxl_1968_Tome_I1_Part_4.txt',\n",
      "     'Bxl_1968_Tome_I1_Part_5.txt',\n",
      "     'Bxl_1968_Tome_I1_Part_6.txt',\n",
      "     'Bxl_1968_Tome_I1_Part_7.txt',\n",
      "     'Bxl_1968_Tome_I1_Part_8.txt',\n",
      "     'Bxl_1968_Tome_I1_Part_9.txt',\n",
      "     'Bxl_1968_Tome_I2_Part_1.txt',\n",
      "     'Bxl_1968_Tome_I2_Part_2.txt',\n",
      "     'Bxl_1968_Tome_I2_Part_3.txt',\n",
      "     'Bxl_1968_Tome_I2_Part_4.txt',\n",
      "     'Bxl_1968_Tome_I2_Part_5.txt',\n",
      "     'Bxl_1968_Tome_I2_Part_6.txt',\n",
      "     'Bxl_1968_Tome_I2_Part_7.txt',\n",
      "     'Bxl_1968_Tome_II1_Part_1.txt',\n",
      "     'Bxl_1968_Tome_II1_Part_2.txt',\n",
      "     'Bxl_1968_Tome_II1_Part_3.txt',\n",
      "     'Bxl_1968_Tome_II1_Part_4.txt',\n",
      "     'Bxl_1968_Tome_II1_Part_5.txt',\n",
      "     'Bxl_1968_Tome_II1_Part_6.txt',\n",
      "     'Bxl_1968_Tome_II1_Part_7.txt',\n",
      "     'Bxl_1968_Tome_II2_Part_1.txt',\n",
      "     'Bxl_1968_Tome_II2_Part_10.txt',\n",
      "     'Bxl_1968_Tome_II2_Part_11.txt',\n",
      "     'Bxl_1968_Tome_II2_Part_12.txt',\n",
      "     'Bxl_1968_Tome_II2_Part_13.txt',\n",
      "     'Bxl_1968_Tome_II2_Part_2.txt',\n",
      "     'Bxl_1968_Tome_II2_Part_3.txt',\n",
      "     'Bxl_1968_Tome_II2_Part_4.txt',\n",
      "     'Bxl_1968_Tome_II2_Part_5.txt',\n",
      "     'Bxl_1968_Tome_II2_Part_6.txt',\n",
      "     'Bxl_1968_Tome_II2_Part_7.txt',\n",
      "     'Bxl_1968_Tome_II2_Part_8.txt',\n",
      "     'Bxl_1968_Tome_II2_Part_9.txt',\n",
      "     'Bxl_1969_Tome_I1_Part_1.txt',\n",
      "     'Bxl_1969_Tome_I1_Part_2.txt',\n",
      "     'Bxl_1969_Tome_I1_Part_3.txt',\n",
      "     'Bxl_1969_Tome_I1_Part_4.txt',\n",
      "     'Bxl_1969_Tome_I1_Part_5.txt',\n",
      "     'Bxl_1969_Tome_I1_Part_6.txt',\n",
      "     'Bxl_1969_Tome_I1_Part_7.txt',\n",
      "     'Bxl_1969_Tome_I1_Part_8.txt',\n",
      "     'Bxl_1969_Tome_I2_Part_1.txt',\n",
      "     'Bxl_1969_Tome_I2_Part_2.txt',\n",
      "     'Bxl_1969_Tome_I2_Part_3.txt',\n",
      "     'Bxl_1969_Tome_I2_Part_4.txt',\n",
      "     'Bxl_1969_Tome_I2_Part_5.txt',\n",
      "     'Bxl_1969_Tome_I2_Part_6.txt',\n",
      "     'Bxl_1969_Tome_I2_Part_7.txt',\n",
      "     'Bxl_1969_Tome_I2_Part_8.txt',\n",
      "     'Bxl_1969_Tome_II1_Part_1.txt',\n",
      "     'Bxl_1969_Tome_II1_Part_2.txt',\n",
      "     'Bxl_1969_Tome_II1_Part_3.txt',\n",
      "     'Bxl_1969_Tome_II1_Part_4.txt',\n",
      "     'Bxl_1969_Tome_II1_Part_5.txt',\n",
      "     'Bxl_1969_Tome_II1_Part_6.txt',\n",
      "     'Bxl_1969_Tome_II1_Part_7.txt',\n",
      "     'Bxl_1969_Tome_II1_Part_8.txt',\n",
      "     'Bxl_1969_Tome_II2_Part_1.txt',\n",
      "     'Bxl_1969_Tome_II2_Part_10.txt',\n",
      "     'Bxl_1969_Tome_II2_Part_11.txt',\n",
      "     'Bxl_1969_Tome_II2_Part_2.txt',\n",
      "     'Bxl_1969_Tome_II2_Part_3.txt',\n",
      "     'Bxl_1969_Tome_II2_Part_4.txt',\n",
      "     'Bxl_1969_Tome_II2_Part_5.txt',\n",
      "     'Bxl_1969_Tome_II2_Part_6.txt',\n",
      "     'Bxl_1969_Tome_II2_Part_7.txt',\n",
      "     'Bxl_1969_Tome_II2_Part_8.txt',\n",
      "     'Bxl_1969_Tome_II2_Part_9.txt',\n",
      "     'Bxl_1969_Tome_RptAn_Part_1.txt',\n",
      "     'Bxl_1969_Tome_RptAn_Part_4.txt',\n",
      "     'Bxl_1969_Tome_RptAn_Part_5.txt',\n",
      "     'Bxl_1969_Tome_RptAn_Part_6.txt',\n",
      "     'Bxl_1969_Tome_RptAn_Part_7.txt'],\n",
      " 2: ['Bxl_1960_Tome_II1_Part_1.txt',\n",
      "     'Bxl_1960_Tome_II1_Part_2.txt',\n",
      "     'Bxl_1960_Tome_II1_Part_3.txt',\n",
      "     'Bxl_1960_Tome_II1_Part_4.txt',\n",
      "     'Bxl_1960_Tome_II1_Part_5.txt',\n",
      "     'Bxl_1960_Tome_II1_Part_6.txt',\n",
      "     'Bxl_1960_Tome_II1_Part_7.txt',\n",
      "     'Bxl_1960_Tome_II1_Part_8.txt',\n",
      "     'Bxl_1960_Tome_II2_Part_1.txt',\n",
      "     'Bxl_1960_Tome_II2_Part_2.txt',\n",
      "     'Bxl_1960_Tome_II2_Part_3.txt',\n",
      "     'Bxl_1960_Tome_II2_Part_4.txt',\n",
      "     'Bxl_1960_Tome_II2_Part_5.txt',\n",
      "     'Bxl_1960_Tome_II2_Part_6.txt',\n",
      "     'Bxl_1960_Tome_I_Part_1.txt',\n",
      "     'Bxl_1960_Tome_I_Part_10.txt',\n",
      "     'Bxl_1960_Tome_I_Part_11.txt',\n",
      "     'Bxl_1960_Tome_I_Part_2.txt',\n",
      "     'Bxl_1960_Tome_I_Part_3.txt',\n",
      "     'Bxl_1960_Tome_I_Part_4.txt',\n",
      "     'Bxl_1960_Tome_I_Part_5.txt',\n",
      "     'Bxl_1960_Tome_I_Part_6.txt',\n",
      "     'Bxl_1960_Tome_I_Part_7.txt',\n",
      "     'Bxl_1960_Tome_I_Part_8.txt',\n",
      "     'Bxl_1960_Tome_I_Part_9.txt',\n",
      "     'Bxl_1960_Tome_RptAn_Part_1.txt',\n",
      "     'Bxl_1960_Tome_RptAn_Part_2.txt',\n",
      "     'Bxl_1960_Tome_RptAn_Part_3.txt',\n",
      "     'Bxl_1960_Tome_RptAn_Part_4.txt',\n",
      "     'Bxl_1960_Tome_RptAn_Part_5.txt',\n",
      "     'Bxl_1960_Tome_RptAn_Part_6.txt',\n",
      "     'Bxl_1960_Tome_RptAn_Part_7.txt',\n",
      "     'Bxl_1960_Tome_RptAn_Part_8.txt',\n",
      "     'Bxl_1960_Tome_RptAn_Part_9.txt',\n",
      "     'Bxl_1961_Tome_II1_Part_1.txt',\n",
      "     'Bxl_1961_Tome_II1_Part_2.txt',\n",
      "     'Bxl_1961_Tome_II1_Part_3.txt',\n",
      "     'Bxl_1961_Tome_II1_Part_4.txt',\n",
      "     'Bxl_1961_Tome_II1_Part_5.txt',\n",
      "     'Bxl_1961_Tome_II1_Part_6.txt',\n",
      "     'Bxl_1961_Tome_II1_Part_7.txt',\n",
      "     'Bxl_1961_Tome_II1_Part_8.txt',\n",
      "     'Bxl_1961_Tome_II2_Part_1.txt',\n",
      "     'Bxl_1961_Tome_II2_Part_2.txt',\n",
      "     'Bxl_1961_Tome_II2_Part_3.txt',\n",
      "     'Bxl_1961_Tome_II2_Part_4.txt',\n",
      "     'Bxl_1961_Tome_II2_Part_5.txt',\n",
      "     'Bxl_1961_Tome_II2_Part_6.txt',\n",
      "     'Bxl_1961_Tome_I_Part_1.txt',\n",
      "     'Bxl_1961_Tome_I_Part_10.txt',\n",
      "     'Bxl_1961_Tome_I_Part_2.txt',\n",
      "     'Bxl_1961_Tome_I_Part_3.txt',\n",
      "     'Bxl_1961_Tome_I_Part_4.txt',\n",
      "     'Bxl_1961_Tome_I_Part_5.txt',\n",
      "     'Bxl_1961_Tome_I_Part_6.txt',\n",
      "     'Bxl_1961_Tome_I_Part_7.txt',\n",
      "     'Bxl_1961_Tome_I_Part_8.txt',\n",
      "     'Bxl_1961_Tome_I_Part_9.txt',\n",
      "     'Bxl_1961_Tome_RptAn_Part_1.txt',\n",
      "     'Bxl_1961_Tome_RptAn_Part_4.txt',\n",
      "     'Bxl_1961_Tome_RptAn_Part_6.txt',\n",
      "     'Bxl_1961_Tome_RptAn_Part_7.txt',\n",
      "     'Bxl_1961_Tome_RptAn_Part_8.txt',\n",
      "     'Bxl_1962_Tome_II1_Part_1.txt',\n",
      "     'Bxl_1962_Tome_II1_Part_2.txt',\n",
      "     'Bxl_1962_Tome_II1_Part_3.txt',\n",
      "     'Bxl_1962_Tome_II1_Part_4.txt',\n",
      "     'Bxl_1962_Tome_II1_Part_5.txt',\n",
      "     'Bxl_1962_Tome_II1_Part_6.txt',\n",
      "     'Bxl_1962_Tome_II1_Part_7.txt',\n",
      "     'Bxl_1962_Tome_II1_Part_8.txt',\n",
      "     'Bxl_1962_Tome_II1_Part_9.txt',\n",
      "     'Bxl_1962_Tome_II2_Part_1.txt',\n",
      "     'Bxl_1962_Tome_II2_Part_2.txt',\n",
      "     'Bxl_1962_Tome_II2_Part_3.txt',\n",
      "     'Bxl_1962_Tome_II2_Part_4.txt',\n",
      "     'Bxl_1962_Tome_II2_Part_5.txt',\n",
      "     'Bxl_1962_Tome_II2_Part_6.txt',\n",
      "     'Bxl_1962_Tome_II2_Part_7.txt',\n",
      "     'Bxl_1962_Tome_I_Part_1.txt',\n",
      "     'Bxl_1962_Tome_I_Part_10.txt',\n",
      "     'Bxl_1962_Tome_I_Part_11.txt',\n",
      "     'Bxl_1962_Tome_I_Part_2.txt',\n",
      "     'Bxl_1962_Tome_I_Part_3.txt',\n",
      "     'Bxl_1962_Tome_I_Part_4.txt',\n",
      "     'Bxl_1962_Tome_I_Part_5.txt',\n",
      "     'Bxl_1962_Tome_I_Part_6.txt',\n",
      "     'Bxl_1962_Tome_I_Part_7.txt',\n",
      "     'Bxl_1962_Tome_I_Part_8.txt',\n",
      "     'Bxl_1962_Tome_I_Part_9.txt',\n",
      "     'Bxl_1962_Tome_RptAn_Part_1.txt',\n",
      "     'Bxl_1962_Tome_RptAn_Part_2.txt',\n",
      "     'Bxl_1962_Tome_RptAn_Part_3.txt',\n",
      "     'Bxl_1962_Tome_RptAn_Part_4.txt',\n",
      "     'Bxl_1962_Tome_RptAn_Part_5.txt',\n",
      "     'Bxl_1962_Tome_RptAn_Part_6.txt',\n",
      "     'Bxl_1962_Tome_RptAn_Part_7.txt',\n",
      "     'Bxl_1962_Tome_RptAn_Part_8.txt',\n",
      "     'Bxl_1963_Tome_II1_Part_1.txt',\n",
      "     'Bxl_1963_Tome_II1_Part_2.txt',\n",
      "     'Bxl_1963_Tome_II1_Part_3.txt',\n",
      "     'Bxl_1963_Tome_II1_Part_4.txt',\n",
      "     'Bxl_1963_Tome_II1_Part_5.txt',\n",
      "     'Bxl_1963_Tome_II1_Part_7.txt',\n",
      "     'Bxl_1963_Tome_II2_Part_1.txt',\n",
      "     'Bxl_1963_Tome_II2_Part_10.txt',\n",
      "     'Bxl_1963_Tome_II2_Part_6.txt',\n",
      "     'Bxl_1963_Tome_II2_Part_7.txt',\n",
      "     'Bxl_1963_Tome_II2_Part_9.txt',\n",
      "     'Bxl_1963_Tome_I_Part_1.txt',\n",
      "     'Bxl_1963_Tome_I_Part_10.txt',\n",
      "     'Bxl_1963_Tome_I_Part_11.txt',\n",
      "     'Bxl_1963_Tome_I_Part_2.txt',\n",
      "     'Bxl_1963_Tome_I_Part_3.txt',\n",
      "     'Bxl_1963_Tome_I_Part_4.txt',\n",
      "     'Bxl_1963_Tome_I_Part_5.txt',\n",
      "     'Bxl_1963_Tome_I_Part_6.txt',\n",
      "     'Bxl_1963_Tome_I_Part_7.txt',\n",
      "     'Bxl_1963_Tome_I_Part_8.txt',\n",
      "     'Bxl_1963_Tome_I_Part_9.txt',\n",
      "     'Bxl_1963_Tome_RptAn_Part_1.txt',\n",
      "     'Bxl_1963_Tome_RptAn_Part_2.txt',\n",
      "     'Bxl_1963_Tome_RptAn_Part_3.txt',\n",
      "     'Bxl_1963_Tome_RptAn_Part_4.txt',\n",
      "     'Bxl_1963_Tome_RptAn_Part_5.txt',\n",
      "     'Bxl_1963_Tome_RptAn_Part_6.txt',\n",
      "     'Bxl_1963_Tome_RptAn_Part_7.txt',\n",
      "     'Bxl_1963_Tome_RptAn_Part_8.txt',\n",
      "     'Bxl_1964_Tome_II1_Part_1.txt',\n",
      "     'Bxl_1964_Tome_II1_Part_10.txt',\n",
      "     'Bxl_1964_Tome_II1_Part_11.txt',\n",
      "     'Bxl_1964_Tome_II1_Part_2.txt',\n",
      "     'Bxl_1964_Tome_II1_Part_3.txt',\n",
      "     'Bxl_1964_Tome_II1_Part_5.txt',\n",
      "     'Bxl_1964_Tome_II1_Part_6.txt',\n",
      "     'Bxl_1964_Tome_II1_Part_7.txt',\n",
      "     'Bxl_1964_Tome_II2_Part_4.txt',\n",
      "     'Bxl_1964_Tome_II2_Part_5.txt',\n",
      "     'Bxl_1964_Tome_II2_Part_6.txt',\n",
      "     'Bxl_1964_Tome_II2_Part_8.txt',\n",
      "     'Bxl_1964_Tome_I_Part_1.txt',\n",
      "     'Bxl_1964_Tome_I_Part_10.txt',\n",
      "     'Bxl_1964_Tome_I_Part_13.txt',\n",
      "     'Bxl_1964_Tome_I_Part_2.txt',\n",
      "     'Bxl_1964_Tome_I_Part_3.txt',\n",
      "     'Bxl_1964_Tome_I_Part_4.txt',\n",
      "     'Bxl_1964_Tome_I_Part_5.txt',\n",
      "     'Bxl_1964_Tome_I_Part_6.txt',\n",
      "     'Bxl_1964_Tome_I_Part_7.txt',\n",
      "     'Bxl_1964_Tome_I_Part_8.txt',\n",
      "     'Bxl_1964_Tome_RptAn_Part_1.txt',\n",
      "     'Bxl_1964_Tome_RptAn_Part_2.txt',\n",
      "     'Bxl_1964_Tome_RptAn_Part_3.txt',\n",
      "     'Bxl_1964_Tome_RptAn_Part_4.txt',\n",
      "     'Bxl_1964_Tome_RptAn_Part_5.txt',\n",
      "     'Bxl_1964_Tome_RptAn_Part_6.txt',\n",
      "     'Bxl_1965_Tome_II1_Part_4.txt',\n",
      "     'Bxl_1965_Tome_II1_Part_6.txt',\n",
      "     'Bxl_1965_Tome_II1_Part_8.txt',\n",
      "     'Bxl_1965_Tome_II2_Part_4.txt',\n",
      "     'Bxl_1965_Tome_I_Part_2.txt',\n",
      "     'Bxl_1965_Tome_I_Part_5.txt',\n",
      "     'Bxl_1965_Tome_RptAn_Part_1.txt',\n",
      "     'Bxl_1965_Tome_RptAn_Part_2.txt',\n",
      "     'Bxl_1965_Tome_RptAn_Part_3.txt',\n",
      "     'Bxl_1966_Tome_II2_Part_10.txt',\n",
      "     'Bxl_1966_Tome_RptAn_Part_1.txt',\n",
      "     'Bxl_1966_Tome_RptAn_Part_2.txt',\n",
      "     'Bxl_1967_Tome_I1_Part_11.txt',\n",
      "     'Bxl_1967_Tome_II1_Part_4.txt',\n",
      "     'Bxl_1969_Tome_II2_Part_14.txt',\n",
      "     'Bxl_1969_Tome_RptAn_Part_2.txt',\n",
      "     'Bxl_1969_Tome_RptAn_Part_3.txt']}\n"
     ]
    }
   ],
   "source": [
    "pprint(dict(clustering))"
   ]
  },
  {
   "cell_type": "markdown",
   "metadata": {},
   "source": [
    "## Visualiser les clusters"
   ]
  },
  {
   "cell_type": "markdown",
   "metadata": {},
   "source": [
    "### Réduire les vecteurs à 2 dimensions à l'aide de l'algorithme PCA\n",
    "Cette étape est nécessaire afin de visualiser les documents dans un espace 2D\n",
    "\n",
    "https://fr.wikipedia.org/wiki/Analyse_en_composantes_principales"
   ]
  },
  {
   "cell_type": "code",
   "execution_count": 55,
   "metadata": {},
   "outputs": [],
   "source": [
    "pca = PCA(n_components=2)\n",
    "reduced_vectors = pca.fit_transform(tfidf_vectors.toarray())"
   ]
  },
  {
   "cell_type": "code",
   "execution_count": 56,
   "metadata": {},
   "outputs": [
    {
     "data": {
      "text/plain": [
       "array([[-0.38270779, -0.30286385],\n",
       "       [-0.46021062, -0.36440906],\n",
       "       [-0.04160252,  0.07746346],\n",
       "       [-0.42760871, -0.33991659],\n",
       "       [-0.23794331, -0.10348268],\n",
       "       [-0.10847717, -0.04634015],\n",
       "       [-0.26295927, -0.19855908],\n",
       "       [-0.30965079, -0.15191124],\n",
       "       [-0.08371917, -0.01569845],\n",
       "       [-0.09278385,  0.02179727]])"
      ]
     },
     "execution_count": 56,
     "metadata": {},
     "output_type": "execute_result"
    }
   ],
   "source": [
    "reduced_vectors[:10]"
   ]
  },
  {
   "cell_type": "markdown",
   "metadata": {},
   "source": [
    "### Générer le plot"
   ]
  },
  {
   "cell_type": "code",
   "execution_count": 57,
   "metadata": {},
   "outputs": [
    {
     "data": {
      "text/plain": [
       "<matplotlib.legend.Legend at 0x12af660a0>"
      ]
     },
     "execution_count": 57,
     "metadata": {},
     "output_type": "execute_result"
    },
    {
     "data": {
      "image/png": "[encoded data removed]",
      "text/plain": [
       "<Figure size 720x720 with 1 Axes>"
      ]
     },
     "metadata": {
      "needs_background": "light"
     },
     "output_type": "display_data"
    }
   ],
   "source": [
    "x_axis = reduced_vectors[:, 0]\n",
    "y_axis = reduced_vectors[:, 1]\n",
    "\n",
    "plt.figure(figsize=(10,10))\n",
    "scatter = plt.scatter(x_axis, y_axis, s=100, c=clusters)\n",
    "\n",
    "# Ajouter les centroïdes\n",
    "centroids = pca.transform(km_model.cluster_centers_)\n",
    "plt.scatter(centroids[:, 0], centroids[:, 1],  marker = \"x\", s=100, linewidths = 2, color='black')\n",
    "\n",
    "# Ajouter la légende\n",
    "plt.legend(handles=scatter.legend_elements()[0], labels=set(clusters), title=\"Clusters\")"
   ]
  }
 ],
 "metadata": {
  "interpreter": {
   "hash": "aee8b7b246df8f9039afb4144a1f6fd8d2ca17a180786b69acc140d282b71a49"
  },
  "kernelspec": {
   "display_name": "Python 3.9.7 64-bit",
   "name": "python3"
  },
  "language_info": {
   "codemirror_mode": {
    "name": "ipython",
    "version": 3
   },
   "file_extension": ".py",
   "mimetype": "text/x-python",
   "name": "python",
   "nbconvert_exporter": "python",
   "pygments_lexer": "ipython3",
   "version": "3.9.7"
  }
 },
 "nbformat": 4,
 "nbformat_minor": 4
}
